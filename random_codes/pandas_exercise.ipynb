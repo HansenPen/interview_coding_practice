{
 "cells": [
  {
   "cell_type": "code",
   "execution_count": 34,
   "metadata": {},
   "outputs": [],
   "source": [
    "import pandas as pd\n",
    "import numpy as np\n",
    "import matplotlib.pyplot as plt\n",
    "import seaborn as sns"
   ]
  },
  {
   "cell_type": "code",
   "execution_count": 3,
   "metadata": {},
   "outputs": [
    {
     "data": {
      "text/plain": [
       "pandas.core.series.Series"
      ]
     },
     "execution_count": 3,
     "metadata": {},
     "output_type": "execute_result"
    }
   ],
   "source": [
    "# Write a Pandas program to create and display a one-dimensional array-like object containing an array of data.\n",
    "ds = pd.Series([2, 4, 6, 8, 10])\n",
    "type(ds)"
   ]
  },
  {
   "cell_type": "code",
   "execution_count": 7,
   "metadata": {},
   "outputs": [
    {
     "name": "stdout",
     "output_type": "stream",
     "text": [
      "Index(['a', 'b', 'c', 'd', 'e'], dtype='object')\n"
     ]
    }
   ],
   "source": [
    "# Write a Pandas program to convert a dictionary to a Pandas series.\n",
    "dict = {'a': 100, 'b': 200, 'c': 300, 'd': 400, 'e': 800}\n",
    "ds = pd.Series(dict)\n",
    "print(ds.index)"
   ]
  },
  {
   "cell_type": "code",
   "execution_count": 10,
   "metadata": {},
   "outputs": [
    {
     "name": "stdout",
     "output_type": "stream",
     "text": [
      "0    10\n",
      "1    20\n",
      "2    30\n",
      "3    40\n",
      "4    50\n",
      "dtype: int32\n"
     ]
    }
   ],
   "source": [
    "#Write a Pandas program to convert a NumPy array to a Pandas series.\n",
    "a = np.array([10,20,30,40,50])\n",
    "ds = pd.Series(a)\n",
    "print(ds)"
   ]
  },
  {
   "cell_type": "code",
   "execution_count": 20,
   "metadata": {},
   "outputs": [
    {
     "data": {
      "text/html": [
       "<div>\n",
       "<style scoped>\n",
       "    .dataframe tbody tr th:only-of-type {\n",
       "        vertical-align: middle;\n",
       "    }\n",
       "\n",
       "    .dataframe tbody tr th {\n",
       "        vertical-align: top;\n",
       "    }\n",
       "\n",
       "    .dataframe thead th {\n",
       "        text-align: right;\n",
       "    }\n",
       "</style>\n",
       "<table border=\"1\" class=\"dataframe\">\n",
       "  <thead>\n",
       "    <tr style=\"text-align: right;\">\n",
       "      <th></th>\n",
       "      <th>name</th>\n",
       "      <th>score</th>\n",
       "      <th>attempts</th>\n",
       "      <th>qualify</th>\n",
       "    </tr>\n",
       "  </thead>\n",
       "  <tbody>\n",
       "    <tr>\n",
       "      <th>0</th>\n",
       "      <td>False</td>\n",
       "      <td>False</td>\n",
       "      <td>False</td>\n",
       "      <td>False</td>\n",
       "    </tr>\n",
       "    <tr>\n",
       "      <th>1</th>\n",
       "      <td>False</td>\n",
       "      <td>False</td>\n",
       "      <td>False</td>\n",
       "      <td>False</td>\n",
       "    </tr>\n",
       "    <tr>\n",
       "      <th>2</th>\n",
       "      <td>False</td>\n",
       "      <td>False</td>\n",
       "      <td>False</td>\n",
       "      <td>False</td>\n",
       "    </tr>\n",
       "    <tr>\n",
       "      <th>3</th>\n",
       "      <td>False</td>\n",
       "      <td>True</td>\n",
       "      <td>False</td>\n",
       "      <td>False</td>\n",
       "    </tr>\n",
       "    <tr>\n",
       "      <th>4</th>\n",
       "      <td>False</td>\n",
       "      <td>False</td>\n",
       "      <td>False</td>\n",
       "      <td>False</td>\n",
       "    </tr>\n",
       "    <tr>\n",
       "      <th>5</th>\n",
       "      <td>False</td>\n",
       "      <td>False</td>\n",
       "      <td>False</td>\n",
       "      <td>False</td>\n",
       "    </tr>\n",
       "    <tr>\n",
       "      <th>6</th>\n",
       "      <td>False</td>\n",
       "      <td>False</td>\n",
       "      <td>False</td>\n",
       "      <td>False</td>\n",
       "    </tr>\n",
       "    <tr>\n",
       "      <th>7</th>\n",
       "      <td>False</td>\n",
       "      <td>True</td>\n",
       "      <td>False</td>\n",
       "      <td>False</td>\n",
       "    </tr>\n",
       "    <tr>\n",
       "      <th>8</th>\n",
       "      <td>False</td>\n",
       "      <td>False</td>\n",
       "      <td>False</td>\n",
       "      <td>False</td>\n",
       "    </tr>\n",
       "    <tr>\n",
       "      <th>9</th>\n",
       "      <td>False</td>\n",
       "      <td>False</td>\n",
       "      <td>False</td>\n",
       "      <td>False</td>\n",
       "    </tr>\n",
       "  </tbody>\n",
       "</table>\n",
       "</div>"
      ],
      "text/plain": [
       "    name  score  attempts  qualify\n",
       "0  False  False     False    False\n",
       "1  False  False     False    False\n",
       "2  False  False     False    False\n",
       "3  False   True     False    False\n",
       "4  False  False     False    False\n",
       "5  False  False     False    False\n",
       "6  False  False     False    False\n",
       "7  False   True     False    False\n",
       "8  False  False     False    False\n",
       "9  False  False     False    False"
      ]
     },
     "execution_count": 20,
     "metadata": {},
     "output_type": "execute_result"
    }
   ],
   "source": [
    "exam_data = {'name': ['Anastasia', 'Dima', 'Katherine', 'James', 'Emily', 'Michael', 'Matthew', 'Laura', 'Kevin', 'Jonas'],\n",
    "'score': [12.5, 9, 16.5, np.nan, 9, 20, 14.5, np.nan, 8, 19],\n",
    "'attempts': [1, 3, 2, 3, 2, 3, 1, 1, 2, 1],\n",
    "'qualify': ['yes', 'no', 'yes', 'no', 'no', 'yes', 'yes', 'no', 'no', 'yes']}\n",
    "labels = ['a', 'b', 'c', 'd', 'e', 'f', 'g', 'h', 'i', 'j']\n",
    "df = pd.DataFrame(exam_data)\n"
   ]
  },
  {
   "cell_type": "code",
   "execution_count": 22,
   "metadata": {},
   "outputs": [
    {
     "data": {
      "text/html": [
       "<div>\n",
       "<style scoped>\n",
       "    .dataframe tbody tr th:only-of-type {\n",
       "        vertical-align: middle;\n",
       "    }\n",
       "\n",
       "    .dataframe tbody tr th {\n",
       "        vertical-align: top;\n",
       "    }\n",
       "\n",
       "    .dataframe thead th {\n",
       "        text-align: right;\n",
       "    }\n",
       "</style>\n",
       "<table border=\"1\" class=\"dataframe\">\n",
       "  <thead>\n",
       "    <tr style=\"text-align: right;\">\n",
       "      <th></th>\n",
       "      <th>name</th>\n",
       "      <th>score</th>\n",
       "      <th>attempts</th>\n",
       "      <th>qualify</th>\n",
       "    </tr>\n",
       "  </thead>\n",
       "  <tbody>\n",
       "    <tr>\n",
       "      <th>3</th>\n",
       "      <td>James</td>\n",
       "      <td>NaN</td>\n",
       "      <td>3</td>\n",
       "      <td>no</td>\n",
       "    </tr>\n",
       "    <tr>\n",
       "      <th>7</th>\n",
       "      <td>Laura</td>\n",
       "      <td>NaN</td>\n",
       "      <td>1</td>\n",
       "      <td>no</td>\n",
       "    </tr>\n",
       "  </tbody>\n",
       "</table>\n",
       "</div>"
      ],
      "text/plain": [
       "    name  score  attempts qualify\n",
       "3  James    NaN         3      no\n",
       "7  Laura    NaN         1      no"
      ]
     },
     "execution_count": 22,
     "metadata": {},
     "output_type": "execute_result"
    }
   ],
   "source": [
    "df.isnull()\n",
    "df[df['score'].isnull()]"
   ]
  },
  {
   "cell_type": "code",
   "execution_count": 24,
   "metadata": {},
   "outputs": [
    {
     "name": "stdout",
     "output_type": "stream",
     "text": [
      "<class 'pandas.core.frame.DataFrame'>\n",
      "RangeIndex: 127 entries, 0 to 126\n",
      "Data columns (total 7 columns):\n",
      " #   Column     Non-Null Count  Dtype  \n",
      "---  ------     --------------  -----  \n",
      " 0   Date       127 non-null    object \n",
      " 1   Open       127 non-null    float64\n",
      " 2   High       127 non-null    float64\n",
      " 3   Low        127 non-null    float64\n",
      " 4   Close      127 non-null    float64\n",
      " 5   Adj Close  127 non-null    float64\n",
      " 6   Volume     127 non-null    int64  \n",
      "dtypes: float64(5), int64(1), object(1)\n",
      "memory usage: 7.1+ KB\n"
     ]
    }
   ],
   "source": [
    "df=pd.read_csv(\"alphabet_stock_data.csv\")\n",
    "df.info()"
   ]
  },
  {
   "cell_type": "code",
   "execution_count": 25,
   "metadata": {},
   "outputs": [],
   "source": [
    "df['Date'] = pd.to_datetime(df['Date'])"
   ]
  },
  {
   "cell_type": "code",
   "execution_count": 26,
   "metadata": {},
   "outputs": [],
   "source": [
    "start_date = pd.to_datetime('2020-4-1')\n",
    "end_date = pd.to_datetime('2020-09-30')      "
   ]
  },
  {
   "cell_type": "code",
   "execution_count": 27,
   "metadata": {},
   "outputs": [],
   "source": [
    "new_df = (df['Date']>= start_date) & (df['Date']<= end_date)"
   ]
  },
  {
   "cell_type": "code",
   "execution_count": 30,
   "metadata": {},
   "outputs": [
    {
     "data": {
      "text/html": [
       "<div>\n",
       "<style scoped>\n",
       "    .dataframe tbody tr th:only-of-type {\n",
       "        vertical-align: middle;\n",
       "    }\n",
       "\n",
       "    .dataframe tbody tr th {\n",
       "        vertical-align: top;\n",
       "    }\n",
       "\n",
       "    .dataframe thead th {\n",
       "        text-align: right;\n",
       "    }\n",
       "</style>\n",
       "<table border=\"1\" class=\"dataframe\">\n",
       "  <thead>\n",
       "    <tr style=\"text-align: right;\">\n",
       "      <th></th>\n",
       "      <th>Date</th>\n",
       "      <th>Open</th>\n",
       "      <th>High</th>\n",
       "      <th>Low</th>\n",
       "      <th>Close</th>\n",
       "      <th>Adj Close</th>\n",
       "      <th>Volume</th>\n",
       "    </tr>\n",
       "  </thead>\n",
       "  <tbody>\n",
       "    <tr>\n",
       "      <th>0</th>\n",
       "      <td>2020-04-01</td>\n",
       "      <td>1122.000000</td>\n",
       "      <td>1129.689941</td>\n",
       "      <td>1097.449951</td>\n",
       "      <td>1105.619995</td>\n",
       "      <td>1105.619995</td>\n",
       "      <td>2343100</td>\n",
       "    </tr>\n",
       "    <tr>\n",
       "      <th>1</th>\n",
       "      <td>2020-04-02</td>\n",
       "      <td>1098.260010</td>\n",
       "      <td>1126.859985</td>\n",
       "      <td>1096.400024</td>\n",
       "      <td>1120.839966</td>\n",
       "      <td>1120.839966</td>\n",
       "      <td>1964900</td>\n",
       "    </tr>\n",
       "    <tr>\n",
       "      <th>2</th>\n",
       "      <td>2020-04-03</td>\n",
       "      <td>1119.015015</td>\n",
       "      <td>1123.540039</td>\n",
       "      <td>1079.810059</td>\n",
       "      <td>1097.880005</td>\n",
       "      <td>1097.880005</td>\n",
       "      <td>2313400</td>\n",
       "    </tr>\n",
       "    <tr>\n",
       "      <th>3</th>\n",
       "      <td>2020-04-06</td>\n",
       "      <td>1138.000000</td>\n",
       "      <td>1194.660034</td>\n",
       "      <td>1130.939941</td>\n",
       "      <td>1186.920044</td>\n",
       "      <td>1186.920044</td>\n",
       "      <td>2664700</td>\n",
       "    </tr>\n",
       "    <tr>\n",
       "      <th>4</th>\n",
       "      <td>2020-04-07</td>\n",
       "      <td>1221.000000</td>\n",
       "      <td>1225.000000</td>\n",
       "      <td>1182.229980</td>\n",
       "      <td>1186.510010</td>\n",
       "      <td>1186.510010</td>\n",
       "      <td>2387300</td>\n",
       "    </tr>\n",
       "    <tr>\n",
       "      <th>...</th>\n",
       "      <td>...</td>\n",
       "      <td>...</td>\n",
       "      <td>...</td>\n",
       "      <td>...</td>\n",
       "      <td>...</td>\n",
       "      <td>...</td>\n",
       "      <td>...</td>\n",
       "    </tr>\n",
       "    <tr>\n",
       "      <th>122</th>\n",
       "      <td>2020-09-24</td>\n",
       "      <td>1411.030029</td>\n",
       "      <td>1443.708984</td>\n",
       "      <td>1409.849976</td>\n",
       "      <td>1428.290039</td>\n",
       "      <td>1428.290039</td>\n",
       "      <td>1450200</td>\n",
       "    </tr>\n",
       "    <tr>\n",
       "      <th>123</th>\n",
       "      <td>2020-09-25</td>\n",
       "      <td>1432.630005</td>\n",
       "      <td>1450.000000</td>\n",
       "      <td>1413.339966</td>\n",
       "      <td>1444.959961</td>\n",
       "      <td>1444.959961</td>\n",
       "      <td>1323000</td>\n",
       "    </tr>\n",
       "    <tr>\n",
       "      <th>124</th>\n",
       "      <td>2020-09-28</td>\n",
       "      <td>1474.209961</td>\n",
       "      <td>1476.800049</td>\n",
       "      <td>1449.301025</td>\n",
       "      <td>1464.520020</td>\n",
       "      <td>1464.520020</td>\n",
       "      <td>2007900</td>\n",
       "    </tr>\n",
       "    <tr>\n",
       "      <th>125</th>\n",
       "      <td>2020-09-29</td>\n",
       "      <td>1470.390015</td>\n",
       "      <td>1476.662964</td>\n",
       "      <td>1458.805054</td>\n",
       "      <td>1469.329956</td>\n",
       "      <td>1469.329956</td>\n",
       "      <td>978200</td>\n",
       "    </tr>\n",
       "    <tr>\n",
       "      <th>126</th>\n",
       "      <td>2020-09-30</td>\n",
       "      <td>1466.800049</td>\n",
       "      <td>1489.750000</td>\n",
       "      <td>1459.880005</td>\n",
       "      <td>1469.599976</td>\n",
       "      <td>1469.599976</td>\n",
       "      <td>1700600</td>\n",
       "    </tr>\n",
       "  </tbody>\n",
       "</table>\n",
       "<p>127 rows × 7 columns</p>\n",
       "</div>"
      ],
      "text/plain": [
       "          Date         Open         High          Low        Close  \\\n",
       "0   2020-04-01  1122.000000  1129.689941  1097.449951  1105.619995   \n",
       "1   2020-04-02  1098.260010  1126.859985  1096.400024  1120.839966   \n",
       "2   2020-04-03  1119.015015  1123.540039  1079.810059  1097.880005   \n",
       "3   2020-04-06  1138.000000  1194.660034  1130.939941  1186.920044   \n",
       "4   2020-04-07  1221.000000  1225.000000  1182.229980  1186.510010   \n",
       "..         ...          ...          ...          ...          ...   \n",
       "122 2020-09-24  1411.030029  1443.708984  1409.849976  1428.290039   \n",
       "123 2020-09-25  1432.630005  1450.000000  1413.339966  1444.959961   \n",
       "124 2020-09-28  1474.209961  1476.800049  1449.301025  1464.520020   \n",
       "125 2020-09-29  1470.390015  1476.662964  1458.805054  1469.329956   \n",
       "126 2020-09-30  1466.800049  1489.750000  1459.880005  1469.599976   \n",
       "\n",
       "       Adj Close   Volume  \n",
       "0    1105.619995  2343100  \n",
       "1    1120.839966  1964900  \n",
       "2    1097.880005  2313400  \n",
       "3    1186.920044  2664700  \n",
       "4    1186.510010  2387300  \n",
       "..           ...      ...  \n",
       "122  1428.290039  1450200  \n",
       "123  1444.959961  1323000  \n",
       "124  1464.520020  2007900  \n",
       "125  1469.329956   978200  \n",
       "126  1469.599976  1700600  \n",
       "\n",
       "[127 rows x 7 columns]"
      ]
     },
     "execution_count": 30,
     "metadata": {},
     "output_type": "execute_result"
    }
   ],
   "source": [
    "df1 = df.loc[new_df]\n",
    "df1"
   ]
  },
  {
   "cell_type": "code",
   "execution_count": 31,
   "metadata": {},
   "outputs": [],
   "source": [
    "x = df1['Date']\n",
    "y = df1['Close']"
   ]
  },
  {
   "cell_type": "code",
   "execution_count": 33,
   "metadata": {},
   "outputs": [
    {
     "data": {
      "text/plain": [
       "[<matplotlib.lines.Line2D at 0x1c5b80e1f70>]"
      ]
     },
     "execution_count": 33,
     "metadata": {},
     "output_type": "execute_result"
    },
    {
     "data": {
      "image/png": "[encoded data removed]",
      "text/plain": [
       "<Figure size 640x480 with 1 Axes>"
      ]
     },
     "metadata": {},
     "output_type": "display_data"
    }
   ],
   "source": [
    "plt.plot(x,y)"
   ]
  },
  {
   "cell_type": "code",
   "execution_count": 48,
   "metadata": {},
   "outputs": [
    {
     "data": {
      "text/plain": [
       "<Axes: xlabel='Date', ylabel='Volume'>"
      ]
     },
     "execution_count": 48,
     "metadata": {},
     "output_type": "execute_result"
    },
    {
     "data": {
      "image/png": "[encoded data removed]",
      "text/plain": [
       "<Figure size 640x480 with 1 Axes>"
      ]
     },
     "metadata": {},
     "output_type": "display_data"
    }
   ],
   "source": [
    "sns.barplot(data=df1,x=df1['Date'],y=df1['Volume'])"
   ]
  },
  {
   "cell_type": "code",
   "execution_count": 49,
   "metadata": {},
   "outputs": [],
   "source": [
    "#scipy tutorial \n",
    "from scipy import stats"
   ]
  },
  {
   "cell_type": "code",
   "execution_count": 55,
   "metadata": {},
   "outputs": [
    {
     "data": {
      "text/plain": [
       "array([[10. , 14. , 11. ,  7. ,  9.5],\n",
       "       [ 8. ,  9. , 17. , 14.5, 12. ],\n",
       "       [15. ,  7. , 11.5, 10. , 10.5],\n",
       "       [11. , 11. ,  9. , 12. , 14. ]])"
      ]
     },
     "execution_count": 55,
     "metadata": {},
     "output_type": "execute_result"
    }
   ],
   "source": [
    "# think this as 5 attributes, 5 columns \n",
    "A = np.array([[10, 14, 11, 7, 9.5], [8, 9, 17, 14.5, 12],\n",
    "              [15, 7, 11.5, 10, 10.5], [11, 11, 9, 12, 14]])\n",
    "A"
   ]
  },
  {
   "cell_type": "code",
   "execution_count": 56,
   "metadata": {},
   "outputs": [
    {
     "data": {
      "text/plain": [
       "array([11.   , 10.25 , 12.125, 10.875, 11.5  ])"
      ]
     },
     "execution_count": 56,
     "metadata": {},
     "output_type": "execute_result"
    }
   ],
   "source": [
    "A.shape\n",
    "np.mean(A,axis=0)"
   ]
  },
  {
   "cell_type": "code",
   "execution_count": 54,
   "metadata": {},
   "outputs": [
    {
     "name": "stdout",
     "output_type": "stream",
     "text": [
      "IQR:  [2.5   3.25  2.375 3.375 2.25 ]\n"
     ]
    }
   ],
   "source": [
    "print(\"IQR: \", stats.iqr(A, axis=0))"
   ]
  },
  {
   "cell_type": "code",
   "execution_count": 57,
   "metadata": {},
   "outputs": [],
   "source": [
    "from scipy.stats import norm # import normal distribution from scipy stats"
   ]
  },
  {
   "cell_type": "code",
   "execution_count": 59,
   "metadata": {},
   "outputs": [
    {
     "data": {
      "text/plain": [
       "array([-1.  , -0.99, -0.98, ..., 10.97, 10.98, 10.99])"
      ]
     },
     "execution_count": 59,
     "metadata": {},
     "output_type": "execute_result"
    }
   ],
   "source": [
    "bins = np.arange(5 - 3 * 2, 5 + 3 * 2, 0.01)\n",
    "bins"
   ]
  },
  {
   "cell_type": "code",
   "execution_count": 60,
   "metadata": {},
   "outputs": [
    {
     "data": {
      "text/plain": [
       "array([0.00221592, 0.00224939, 0.00228329, ..., 0.00231766, 0.00228329,\n",
       "       0.00224939])"
      ]
     },
     "execution_count": 60,
     "metadata": {},
     "output_type": "execute_result"
    }
   ],
   "source": [
    "PDF = norm.pdf(bins, loc=5, scale=2)\n",
    "PDF"
   ]
  },
  {
   "cell_type": "code",
   "execution_count": 62,
   "metadata": {},
   "outputs": [
    {
     "data": {
      "image/png": "[encoded data removed]",
      "text/plain": [
       "<Figure size 640x480 with 1 Axes>"
      ]
     },
     "metadata": {},
     "output_type": "display_data"
    }
   ],
   "source": [
    "plt.plot(bins, PDF)\n",
    "plt.ylabel(\"PDF\")\n",
    "plt.show()"
   ]
  },
  {
   "cell_type": "code",
   "execution_count": 63,
   "metadata": {},
   "outputs": [],
   "source": [
    "CDF = norm.cdf(bins, loc=5, scale=2)"
   ]
  },
  {
   "cell_type": "code",
   "execution_count": 65,
   "metadata": {},
   "outputs": [
    {
     "data": {
      "text/plain": [
       "numpy.ndarray"
      ]
     },
     "execution_count": 65,
     "metadata": {},
     "output_type": "execute_result"
    }
   ],
   "source": [
    "# random variables \n",
    "RVS = norm.rvs(loc=5, scale=2, size=1000)\n",
    "type(RVS)"
   ]
  },
  {
   "cell_type": "code",
   "execution_count": 67,
   "metadata": {},
   "outputs": [
    {
     "data": {
      "text/plain": [
       "array([0.06512108, 0.04984726, 0.13961947, 0.19770726, 0.15592827,\n",
       "       0.07786799, 0.18470245, 0.101117  , 0.18210249, 0.10477613,\n",
       "       0.13638877, 0.17223359, 0.14351634, 0.056827  , 0.14736632,\n",
       "       0.06115926, 0.13882966, 0.15572352, 0.17013683, 0.19840954,\n",
       "       0.04366523, 0.05419867, 0.06719359, 0.11704424, 0.19749384,\n",
       "       0.15911625, 0.13742074, 0.19853223, 0.07620235, 0.19686405,\n",
       "       0.07417933, 0.1263377 , 0.16578619, 0.0442211 , 0.19227294,\n",
       "       0.19642176, 0.11460705, 0.10034351, 0.19083781, 0.13656088,\n",
       "       0.16281424, 0.16694405, 0.19125408, 0.19770116, 0.014618  ,\n",
       "       0.05286114, 0.14729323, 0.10072256, 0.19788428, 0.19818348,\n",
       "       0.19226268, 0.10257743, 0.19448301, 0.188141  , 0.08948335,\n",
       "       0.13976092, 0.16060903, 0.17748908, 0.1986451 , 0.1241105 ,\n",
       "       0.19933283, 0.13658853, 0.12331696, 0.19782984, 0.02897543,\n",
       "       0.19433898, 0.17235502, 0.02701424, 0.19946917, 0.04059277,\n",
       "       0.16635426, 0.1470823 , 0.02361429, 0.11391314, 0.18406811,\n",
       "       0.19907824, 0.17247736, 0.17637736, 0.03252384, 0.15627386,\n",
       "       0.11404073, 0.13527478, 0.18756629, 0.15175025, 0.19620145,\n",
       "       0.19945724, 0.19478431, 0.05916867, 0.19752846, 0.16438797,\n",
       "       0.18046764, 0.08753076, 0.09671627, 0.00109711, 0.05902575,\n",
       "       0.01484881, 0.11029725, 0.15961669, 0.05204068, 0.1894553 ,\n",
       "       0.04276418, 0.02294756, 0.07656963, 0.18721573, 0.17723824,\n",
       "       0.19796633, 0.15188226, 0.16495272, 0.15266901, 0.0798417 ,\n",
       "       0.04026816, 0.15339581, 0.18761816, 0.0226276 , 0.09132524,\n",
       "       0.19878403, 0.19935308, 0.18792348, 0.16372269, 0.15457934,\n",
       "       0.19733075, 0.197298  , 0.14100637, 0.19277717, 0.19786524,\n",
       "       0.16410923, 0.07346771, 0.14475544, 0.01891932, 0.16114579,\n",
       "       0.09714841, 0.19946573, 0.17388428, 0.0970901 , 0.1260857 ,\n",
       "       0.15303673, 0.08027777, 0.11909643, 0.19043161, 0.18498846,\n",
       "       0.16633561, 0.18542615, 0.15481807, 0.09372084, 0.19475101,\n",
       "       0.19798723, 0.04088165, 0.14667144, 0.19605719, 0.10593332,\n",
       "       0.08259587, 0.12944616, 0.03359845, 0.09283423, 0.04265294,\n",
       "       0.19387225, 0.17489931, 0.16266944, 0.03392512, 0.11814108,\n",
       "       0.19410191, 0.16316909, 0.10219684, 0.10517791, 0.1428982 ,\n",
       "       0.1205249 , 0.04727893, 0.19302095, 0.19304016, 0.15676902,\n",
       "       0.18096044, 0.05995728, 0.18929082, 0.05838369, 0.18893926,\n",
       "       0.17020272, 0.18889856, 0.18837871, 0.18634137, 0.09759394,\n",
       "       0.19942167, 0.03355254, 0.13870097, 0.09137113, 0.01915132,\n",
       "       0.06737405, 0.19542314, 0.19947059, 0.19946738, 0.17403323,\n",
       "       0.19442551, 0.11691177, 0.04505913, 0.17471739, 0.11990001,\n",
       "       0.1331248 , 0.02772601, 0.15368961, 0.06452629, 0.07721509,\n",
       "       0.1394552 , 0.19803999, 0.19834887, 0.15356056, 0.08453996,\n",
       "       0.1037925 , 0.18784335, 0.18787028, 0.1402481 , 0.17411798,\n",
       "       0.16265326, 0.17701375, 0.18684501, 0.1959618 , 0.07808256,\n",
       "       0.19906783, 0.13567917, 0.13991135, 0.13404921, 0.14411019,\n",
       "       0.19764989, 0.14750358, 0.15080784, 0.00920545, 0.07181665,\n",
       "       0.19946171, 0.00339678, 0.0543229 , 0.08980492, 0.11557481,\n",
       "       0.19928101, 0.12070458, 0.14490553, 0.14896975, 0.06673308,\n",
       "       0.08929274, 0.14212389, 0.19772143, 0.18106535, 0.0495048 ,\n",
       "       0.0768624 , 0.17437226, 0.11408685, 0.12095325, 0.15085551,\n",
       "       0.10256778, 0.189883  , 0.12326997, 0.15029069, 0.16693049,\n",
       "       0.18202213, 0.16966603, 0.14072946, 0.06907681, 0.16713017,\n",
       "       0.18009595, 0.14973878, 0.17914701, 0.09289358, 0.19516478,\n",
       "       0.19723898, 0.19644428, 0.11816986, 0.19639607, 0.07074877,\n",
       "       0.11318474, 0.00772973, 0.07743423, 0.12009586, 0.19236238,\n",
       "       0.19465871, 0.07067351, 0.11782934, 0.19576864, 0.10285786,\n",
       "       0.1990866 , 0.14237661, 0.19862959, 0.10008231, 0.17740086,\n",
       "       0.09208945, 0.19938237, 0.18492847, 0.14497529, 0.17021002,\n",
       "       0.17138666, 0.19894293, 0.17694861, 0.13991924, 0.07361621,\n",
       "       0.14544363, 0.17958912, 0.07816222, 0.19679673, 0.18396074,\n",
       "       0.16107847, 0.1562198 , 0.09787755, 0.19518129, 0.19920565,\n",
       "       0.18647573, 0.11290299, 0.08619268, 0.18553268, 0.11459525,\n",
       "       0.19867762, 0.06102149, 0.18720695, 0.16444516, 0.19900116,\n",
       "       0.17307228, 0.07276272, 0.16650986, 0.19905399, 0.0891734 ,\n",
       "       0.07553087, 0.06119165, 0.19845066, 0.18040076, 0.18395836,\n",
       "       0.17743665, 0.13372691, 0.18629592, 0.17113448, 0.01440847,\n",
       "       0.17242117, 0.16452756, 0.15087854, 0.16533377, 0.06125577,\n",
       "       0.17263136, 0.18130901, 0.1247114 , 0.19784964, 0.19945263,\n",
       "       0.1991835 , 0.19909791, 0.18691808, 0.11054802, 0.12950744,\n",
       "       0.14377184, 0.05664686, 0.15728079, 0.1777942 , 0.08424765,\n",
       "       0.19809493, 0.13705746, 0.14615516, 0.07174827, 0.18968985,\n",
       "       0.12948017, 0.19617346, 0.04224754, 0.19830904, 0.19763781,\n",
       "       0.04600037, 0.15914488, 0.17721349, 0.08099477, 0.12017038,\n",
       "       0.17879186, 0.16481692, 0.17840843, 0.17366323, 0.18622121,\n",
       "       0.13374529, 0.15601528, 0.08619247, 0.1993377 , 0.18218479,\n",
       "       0.13294202, 0.16698842, 0.01838776, 0.19890244, 0.19860693,\n",
       "       0.11836314, 0.19394973, 0.15594684, 0.19845765, 0.08554416,\n",
       "       0.16865555, 0.17593743, 0.16262455, 0.03339782, 0.1540999 ,\n",
       "       0.08896431, 0.13531228, 0.17459517, 0.074307  , 0.19296851,\n",
       "       0.19179432, 0.03984731, 0.19783268, 0.1075603 , 0.0254331 ,\n",
       "       0.17226529, 0.1925118 , 0.18475913, 0.13082616, 0.19588498,\n",
       "       0.19125319, 0.12685652, 0.19265563, 0.08297258, 0.19663513,\n",
       "       0.16802896, 0.19934646, 0.19886768, 0.09357261, 0.19227658,\n",
       "       0.15495248, 0.05277288, 0.11524528, 0.14231257, 0.05149434,\n",
       "       0.00875413, 0.1071346 , 0.18586132, 0.18055781, 0.09132719,\n",
       "       0.04216487, 0.10090326, 0.03348131, 0.07622306, 0.1604985 ,\n",
       "       0.19499755, 0.1904499 , 0.19943422, 0.05050569, 0.18271839,\n",
       "       0.12858945, 0.1847623 , 0.16942375, 0.09240752, 0.15535995,\n",
       "       0.06813586, 0.10209598, 0.19868935, 0.09503075, 0.17755274,\n",
       "       0.19848973, 0.19546534, 0.19818964, 0.1461005 , 0.06391063,\n",
       "       0.17720388, 0.08802685, 0.06638761, 0.0740958 , 0.04695954,\n",
       "       0.18950176, 0.03997378, 0.19753832, 0.01947852, 0.19610641,\n",
       "       0.03607177, 0.1193122 , 0.19210593, 0.19673897, 0.02319717,\n",
       "       0.15593284, 0.19840279, 0.19916132, 0.19914911, 0.19172689,\n",
       "       0.19316094, 0.10193773, 0.13685765, 0.00435993, 0.15530675,\n",
       "       0.09322196, 0.17156468, 0.18132547, 0.19818069, 0.17717824,\n",
       "       0.19798924, 0.14288439, 0.19510875, 0.14660705, 0.19328414,\n",
       "       0.11672743, 0.0654786 , 0.02834497, 0.13106709, 0.02061837,\n",
       "       0.05755764, 0.17022915, 0.19946638, 0.16584685, 0.16454523,\n",
       "       0.16026301, 0.17558084, 0.19903845, 0.07744612, 0.13956787,\n",
       "       0.0169834 , 0.18940723, 0.15008699, 0.18862308, 0.1276039 ,\n",
       "       0.13069821, 0.11044701, 0.1377013 , 0.19554367, 0.05738201,\n",
       "       0.1005364 , 0.02424668, 0.19318643, 0.16194552, 0.02304886,\n",
       "       0.1994534 , 0.13811329, 0.19824047, 0.02899287, 0.03634713,\n",
       "       0.0731126 , 0.08766743, 0.1884935 , 0.18967948, 0.19021169,\n",
       "       0.03347601, 0.10337405, 0.07809107, 0.09584825, 0.1706558 ,\n",
       "       0.18209128, 0.08769773, 0.18911476, 0.14008336, 0.19490458,\n",
       "       0.07148082, 0.07422676, 0.14100005, 0.19124037, 0.01331367,\n",
       "       0.19209714, 0.1897396 , 0.09735229, 0.17617537, 0.19874198,\n",
       "       0.17041648, 0.11243794, 0.16773728, 0.19528257, 0.13936239,\n",
       "       0.18197055, 0.0059527 , 0.19859531, 0.17030579, 0.19834416,\n",
       "       0.18285847, 0.16837323, 0.19884251, 0.17479789, 0.1906615 ,\n",
       "       0.18223673, 0.01320644, 0.17425781, 0.12203272, 0.12887615,\n",
       "       0.19384115, 0.19900177, 0.09321869, 0.1055104 , 0.19857561,\n",
       "       0.19900089, 0.08396882, 0.11768566, 0.13515018, 0.04512074,\n",
       "       0.11978017, 0.19563586, 0.06242034, 0.15020379, 0.16560455,\n",
       "       0.112018  , 0.04409883, 0.03457227, 0.1953265 , 0.08616698,\n",
       "       0.19934982, 0.19881355, 0.130199  , 0.19870294, 0.03479351,\n",
       "       0.07338161, 0.19792745, 0.19752169, 0.11888233, 0.14554591,\n",
       "       0.13788427, 0.18152546, 0.12158273, 0.12763659, 0.07370066,\n",
       "       0.17978124, 0.11884177, 0.04213392, 0.19386511, 0.19667138,\n",
       "       0.16657652, 0.0652728 , 0.15965541, 0.19363231, 0.15498755,\n",
       "       0.18490187, 0.1988871 , 0.08956402, 0.1991509 , 0.09891263,\n",
       "       0.18162598, 0.14251445, 0.12519267, 0.14568785, 0.13669764,\n",
       "       0.16477318, 0.15850815, 0.19734112, 0.16247685, 0.19293025,\n",
       "       0.19930035, 0.11759863, 0.0396799 , 0.18791681, 0.15801445,\n",
       "       0.19942126, 0.17855727, 0.14098071, 0.19293677, 0.19719455,\n",
       "       0.09451276, 0.1325414 , 0.12162528, 0.17458117, 0.16965215,\n",
       "       0.1373372 , 0.14673235, 0.10437577, 0.19840872, 0.19815236,\n",
       "       0.18053656, 0.19107751, 0.18689623, 0.07539872, 0.05198489,\n",
       "       0.19570818, 0.19407942, 0.18705192, 0.12588925, 0.16754137,\n",
       "       0.05748742, 0.17152564, 0.12733622, 0.10713287, 0.00781736,\n",
       "       0.16823936, 0.18869874, 0.08447013, 0.19525877, 0.18786001,\n",
       "       0.19904746, 0.19371414, 0.13372117, 0.19921716, 0.15902475,\n",
       "       0.19716449, 0.07254744, 0.14931459, 0.1847048 , 0.19898094,\n",
       "       0.04527524, 0.17883911, 0.19917046, 0.06543206, 0.18317828,\n",
       "       0.11404169, 0.18900057, 0.19766962, 0.19682429, 0.19240246,\n",
       "       0.02054774, 0.19514169, 0.17157834, 0.10324003, 0.12677741,\n",
       "       0.19325271, 0.19631331, 0.03923471, 0.04807634, 0.10776023,\n",
       "       0.11083789, 0.13039208, 0.15300103, 0.06554295, 0.09613736,\n",
       "       0.12589313, 0.19069283, 0.16864761, 0.18845776, 0.07549975,\n",
       "       0.16547579, 0.12434727, 0.19935133, 0.16439861, 0.11176781,\n",
       "       0.13010612, 0.17768214, 0.1722257 , 0.19943946, 0.09928116,\n",
       "       0.13442622, 0.11052754, 0.19427862, 0.11290645, 0.19541869,\n",
       "       0.04197322, 0.07257117, 0.19863429, 0.14914399, 0.18421963,\n",
       "       0.13264988, 0.08081685, 0.09160125, 0.14793342, 0.19722599,\n",
       "       0.16191719, 0.18477533, 0.19411048, 0.1856928 , 0.02704689,\n",
       "       0.06161123, 0.19943971, 0.16123674, 0.19625889, 0.16037537,\n",
       "       0.1578986 , 0.1703595 , 0.17153328, 0.15952319, 0.19938914,\n",
       "       0.18028207, 0.18974379, 0.17855321, 0.10541377, 0.02637783,\n",
       "       0.14805101, 0.17669662, 0.15625953, 0.18107804, 0.08802691,\n",
       "       0.02414446, 0.15580756, 0.19899461, 0.02330717, 0.13623878,\n",
       "       0.17896906, 0.04750279, 0.18787846, 0.19416821, 0.09659546,\n",
       "       0.11319355, 0.19837875, 0.08482903, 0.12436808, 0.15872261,\n",
       "       0.19943806, 0.19644727, 0.11230158, 0.04214602, 0.1746706 ,\n",
       "       0.08318471, 0.17128046, 0.11441947, 0.17099681, 0.06610617,\n",
       "       0.1225654 , 0.12283785, 0.15957419, 0.13558909, 0.19381773,\n",
       "       0.19932217, 0.0985991 , 0.18768658, 0.17151938, 0.13845054,\n",
       "       0.12115403, 0.19757444, 0.13229242, 0.1523316 , 0.18799532,\n",
       "       0.0866223 , 0.19931013, 0.12415822, 0.15187797, 0.17676607,\n",
       "       0.1176021 , 0.01361232, 0.10475147, 0.14837138, 0.19904427,\n",
       "       0.15665314, 0.13420607, 0.17748787, 0.15568244, 0.00593694,\n",
       "       0.09871131, 0.13224033, 0.00230355, 0.07448252, 0.19310949,\n",
       "       0.07932179, 0.17564271, 0.08430128, 0.17291621, 0.18042417,\n",
       "       0.19795882, 0.18041998, 0.06152706, 0.15890907, 0.19578785,\n",
       "       0.19946435, 0.12671882, 0.11237386, 0.13893023, 0.03192051,\n",
       "       0.19489266, 0.17111243, 0.1817728 , 0.13914406, 0.19624375,\n",
       "       0.18987447, 0.06015314, 0.0965019 , 0.11797025, 0.18874064,\n",
       "       0.17560111, 0.06630942, 0.05942119, 0.15010828, 0.11213248,\n",
       "       0.04945944, 0.14489006, 0.12119499, 0.07546686, 0.19178179,\n",
       "       0.19640497, 0.19928914, 0.11906602, 0.08760022, 0.07631554,\n",
       "       0.12311307, 0.18968254, 0.19513699, 0.18701804, 0.09948759,\n",
       "       0.19797875, 0.1877054 , 0.10334983, 0.12470099, 0.0659354 ,\n",
       "       0.0599634 , 0.1992365 , 0.19947091, 0.16046926, 0.13616445,\n",
       "       0.19876187, 0.1710772 , 0.05269224, 0.19931807, 0.08072833,\n",
       "       0.0984112 , 0.15909516, 0.19275281, 0.19936644, 0.17073617,\n",
       "       0.15009129, 0.19652413, 0.19601957, 0.09015564, 0.14028911,\n",
       "       0.14832258, 0.15458152, 0.19282976, 0.08333569, 0.18425317,\n",
       "       0.1802988 , 0.19946916, 0.12920194, 0.18993908, 0.16797256,\n",
       "       0.18381416, 0.19760846, 0.19356463, 0.17931458, 0.16421009,\n",
       "       0.15255245, 0.04991765, 0.12838641, 0.1510161 , 0.19070658,\n",
       "       0.1971793 , 0.18312091, 0.18521638, 0.19843761, 0.17935393,\n",
       "       0.15068492, 0.12247903, 0.19927838, 0.13031953, 0.19828087,\n",
       "       0.07559273, 0.11704189, 0.19385734, 0.19877829, 0.08572372,\n",
       "       0.19947111, 0.15977163, 0.19020595, 0.17125205, 0.16416995,\n",
       "       0.19558611, 0.19123613, 0.17951032, 0.19533761, 0.19098909,\n",
       "       0.19942565, 0.19487047, 0.15542609, 0.19375888, 0.14332773,\n",
       "       0.18946446, 0.17128259, 0.13530089, 0.18787443, 0.19185317,\n",
       "       0.01820588, 0.10265027, 0.14612674, 0.19914694, 0.15345745,\n",
       "       0.18990451, 0.09421731, 0.19550506, 0.17640198, 0.10304572,\n",
       "       0.1352222 , 0.17480245, 0.18254256, 0.19293113, 0.16024812,\n",
       "       0.04052191, 0.18021849, 0.18559192, 0.06847308, 0.19060459,\n",
       "       0.18644619, 0.18188234, 0.19270828, 0.15050008, 0.18836954,\n",
       "       0.10231427, 0.19314774, 0.15432664, 0.18365265, 0.18604374,\n",
       "       0.18278449, 0.17525444, 0.1681788 , 0.03660138, 0.06650089,\n",
       "       0.1578294 , 0.19858385, 0.16906559, 0.00060489, 0.14201163,\n",
       "       0.00566025, 0.1565101 , 0.14604935, 0.08187968, 0.19935214,\n",
       "       0.198085  , 0.19927935, 0.15755581, 0.00285235, 0.18722399,\n",
       "       0.06994704, 0.10704967, 0.18439756, 0.10679675, 0.10001918,\n",
       "       0.18313589, 0.07987543, 0.05909192, 0.11622088, 0.1062484 ,\n",
       "       0.19459778, 0.19816767, 0.18536377, 0.07262458, 0.13539013])"
      ]
     },
     "execution_count": 67,
     "metadata": {},
     "output_type": "execute_result"
    }
   ],
   "source": [
    "PDF = norm.pdf(RVS, loc=5, scale=2)\n",
    "PDF"
   ]
  },
  {
   "cell_type": "code",
   "execution_count": 69,
   "metadata": {},
   "outputs": [
    {
     "data": {
      "text/plain": [
       "(4.90463576326771, 1.958571680444741)"
      ]
     },
     "execution_count": 69,
     "metadata": {},
     "output_type": "execute_result"
    }
   ],
   "source": [
    "samples = norm.rvs(loc=5, scale=2, size=1000)  # pesudo dataset\n",
    "mu, sigma = norm.fit(samples, method=\"MLE\")\n",
    "mu,sigma"
   ]
  },
  {
   "cell_type": "code",
   "execution_count": 70,
   "metadata": {},
   "outputs": [
    {
     "data": {
      "text/plain": [
       "(array([  6.,  44., 124., 194., 239., 198., 125.,  51.,  14.,   5.]),\n",
       " array([-0.6840007 ,  0.53568416,  1.75536902,  2.97505388,  4.19473875,\n",
       "         5.41442361,  6.63410847,  7.85379333,  9.07347819, 10.29316306,\n",
       "        11.51284792]),\n",
       " <BarContainer object of 10 artists>)"
      ]
     },
     "execution_count": 70,
     "metadata": {},
     "output_type": "execute_result"
    },
    {
     "data": {
      "image/png": "[encoded data removed]",
      "text/plain": [
       "<Figure size 640x480 with 1 Axes>"
      ]
     },
     "metadata": {},
     "output_type": "display_data"
    }
   ],
   "source": [
    "bins = np.arange(mu - 3 * sigma, mu + 3 * sigma, 0.01)\n",
    "plt.hist(samples, alpha=0.2, label='Samples')"
   ]
  },
  {
   "cell_type": "code",
   "execution_count": 71,
   "metadata": {},
   "outputs": [
    {
     "data": {
      "text/plain": [
       "array([0.0022628 , 0.00229769, 0.00233307, ..., 0.00233817, 0.00230272,\n",
       "       0.00226776])"
      ]
     },
     "execution_count": 71,
     "metadata": {},
     "output_type": "execute_result"
    }
   ],
   "source": [
    "norm.pdf(bins, loc=mu, scale=sigma)"
   ]
  },
  {
   "cell_type": "code",
   "execution_count": 75,
   "metadata": {},
   "outputs": [
    {
     "data": {
      "text/plain": [
       "<scipy.stats._distn_infrastructure.rv_discrete_frozen at 0x1c5de797bf0>"
      ]
     },
     "execution_count": 75,
     "metadata": {},
     "output_type": "execute_result"
    }
   ],
   "source": [
    "# binomial distribution, n: number of trials, p: success rate \n",
    "from scipy.stats import binom\n",
    "n, p = 5, 0.4\n",
    "distr = binom(n, p)"
   ]
  },
  {
   "cell_type": "code",
   "execution_count": 80,
   "metadata": {},
   "outputs": [
    {
     "data": {
      "text/plain": [
       "array([0.07776, 0.2592 , 0.3456 , 0.2304 , 0.0768 ])"
      ]
     },
     "execution_count": 80,
     "metadata": {},
     "output_type": "execute_result"
    }
   ],
   "source": [
    "x = np.arange(0, 5)\n",
    "PMF = distr.pmf(x)\n",
    "PMF"
   ]
  },
  {
   "cell_type": "code",
   "execution_count": 81,
   "metadata": {},
   "outputs": [
    {
     "data": {
      "image/png": "[encoded data removed]",
      "text/plain": [
       "<Figure size 640x480 with 1 Axes>"
      ]
     },
     "metadata": {},
     "output_type": "display_data"
    }
   ],
   "source": [
    "plt.plot(x, PMF, 'bo')\n",
    "plt.ylabel(\"PMF\")\n",
    "plt.show()\n"
   ]
  },
  {
   "cell_type": "code",
   "execution_count": 86,
   "metadata": {},
   "outputs": [
    {
     "data": {
      "text/plain": [
       "array([1122.      , 1098.26001 , 1119.015015, 1138.      , 1221.      ,\n",
       "       1206.5     , 1224.079956, 1209.180054, 1245.089966, 1245.609985,\n",
       "       1274.099976, 1284.849976, 1271.      , 1247.      , 1245.540039,\n",
       "       1271.550049, 1261.170044, 1296.      , 1287.930054, 1341.459961,\n",
       "       1324.880005, 1328.5     , 1308.22998 , 1337.920044, 1361.689941,\n",
       "       1365.939941, 1383.130005, 1378.280029, 1407.119995, 1377.050049,\n",
       "       1335.02002 , 1350.      , 1361.75    , 1386.996948, 1389.579956,\n",
       "       1408.      , 1396.709961, 1437.27002 , 1417.25    , 1396.859985,\n",
       "       1416.939941, 1418.390015, 1430.550049, 1438.300049, 1430.400024,\n",
       "       1413.170044, 1422.339966, 1445.359985, 1459.540039, 1442.47998 ,\n",
       "       1428.48999 , 1390.800049, 1445.219971, 1447.160034, 1449.160034,\n",
       "       1444.      , 1429.      , 1455.640015, 1461.51001 , 1429.900024,\n",
       "       1431.390015, 1358.180054, 1390.439941, 1411.099976, 1446.939941,\n",
       "       1480.060059, 1490.      , 1494.319946, 1506.449951, 1506.150024,\n",
       "       1550.      , 1490.310059, 1523.130005, 1500.      , 1521.619995,\n",
       "       1515.26001 , 1586.98999 , 1560.5     , 1566.969971, 1498.930054,\n",
       "       1515.599976, 1525.180054, 1506.319946, 1497.      , 1505.01001 ,\n",
       "       1486.640015, 1476.569946, 1469.300049, 1471.75    , 1500.      ,\n",
       "       1487.180054, 1492.439941, 1485.579956, 1510.339966, 1515.660034,\n",
       "       1514.670044, 1526.180054, 1553.310059, 1543.449951, 1577.030029,\n",
       "       1593.97998 , 1582.069946, 1608.      , 1653.680054, 1633.48999 ,\n",
       "       1647.890015, 1636.630005, 1673.775024, 1709.713989, 1624.26001 ,\n",
       "       1533.51001 , 1557.530029, 1560.640015, 1536.      , 1539.005005,\n",
       "       1536.      , 1555.540039, 1496.      , 1498.01001 , 1440.060059,\n",
       "       1450.089966, 1458.780029, 1411.030029, 1432.630005, 1474.209961,\n",
       "       1470.390015, 1466.800049])"
      ]
     },
     "execution_count": 86,
     "metadata": {},
     "output_type": "execute_result"
    }
   ],
   "source": [
    "df['Open'].values"
   ]
  },
  {
   "cell_type": "code",
   "execution_count": 90,
   "metadata": {},
   "outputs": [],
   "source": [
    "x =np.array([[1,2,3],[4,5,6]])\n",
    "\n",
    "df = pd.DataFrame(x)"
   ]
  },
  {
   "cell_type": "code",
   "execution_count": 88,
   "metadata": {},
   "outputs": [
    {
     "data": {
      "text/html": [
       "<div>\n",
       "<style scoped>\n",
       "    .dataframe tbody tr th:only-of-type {\n",
       "        vertical-align: middle;\n",
       "    }\n",
       "\n",
       "    .dataframe tbody tr th {\n",
       "        vertical-align: top;\n",
       "    }\n",
       "\n",
       "    .dataframe thead th {\n",
       "        text-align: right;\n",
       "    }\n",
       "</style>\n",
       "<table border=\"1\" class=\"dataframe\">\n",
       "  <thead>\n",
       "    <tr style=\"text-align: right;\">\n",
       "      <th></th>\n",
       "      <th>0</th>\n",
       "      <th>1</th>\n",
       "      <th>2</th>\n",
       "    </tr>\n",
       "  </thead>\n",
       "  <tbody>\n",
       "    <tr>\n",
       "      <th>0</th>\n",
       "      <td>1</td>\n",
       "      <td>2</td>\n",
       "      <td>3</td>\n",
       "    </tr>\n",
       "    <tr>\n",
       "      <th>1</th>\n",
       "      <td>4</td>\n",
       "      <td>5</td>\n",
       "      <td>6</td>\n",
       "    </tr>\n",
       "  </tbody>\n",
       "</table>\n",
       "</div>"
      ],
      "text/plain": [
       "   0  1  2\n",
       "0  1  2  3\n",
       "1  4  5  6"
      ]
     },
     "execution_count": 88,
     "metadata": {},
     "output_type": "execute_result"
    }
   ],
   "source": [
    "df"
   ]
  },
  {
   "cell_type": "code",
   "execution_count": 96,
   "metadata": {},
   "outputs": [],
   "source": [
    "from scipy.stats import norm\n",
    "\n",
    "bins = np.arange(5 - 3 * 2, 5 + 3 * 2, 0.01)\n",
    "distr = norm(loc=5,scale=2)\n",
    "PDF = distr.pdf(bins)  # generate PDF in bins\n",
    "CDF = distr.cdf(bins)  # generate CDF in bins\n",
    "SF = distr.sf(bins)  # generate survival function (1-CDF)\n",
    "PPF = distr.ppf(0.5)"
   ]
  },
  {
   "cell_type": "code",
   "execution_count": 98,
   "metadata": {},
   "outputs": [
    {
     "data": {
      "text/plain": [
       "array([ 1.  ,  1.01,  1.02, ..., 99.97, 99.98, 99.99])"
      ]
     },
     "execution_count": 98,
     "metadata": {},
     "output_type": "execute_result"
    }
   ],
   "source": [
    "np.arange(1,100, 0.01)"
   ]
  },
  {
   "cell_type": "code",
   "execution_count": 97,
   "metadata": {},
   "outputs": [
    {
     "data": {
      "text/plain": [
       "5.0"
      ]
     },
     "execution_count": 97,
     "metadata": {},
     "output_type": "execute_result"
    }
   ],
   "source": [
    "PPF"
   ]
  },
  {
   "cell_type": "code",
   "execution_count": 95,
   "metadata": {},
   "outputs": [
    {
     "data": {
      "text/plain": [
       "array([  1.,   2.,   3.,   4.,   5.,   6.,   7.,   8.,   9.,  10.,  11.,\n",
       "        12.,  13.,  14.,  15.,  16.,  17.,  18.,  19.,  20.,  21.,  22.,\n",
       "        23.,  24.,  25.,  26.,  27.,  28.,  29.,  30.,  31.,  32.,  33.,\n",
       "        34.,  35.,  36.,  37.,  38.,  39.,  40.,  41.,  42.,  43.,  44.,\n",
       "        45.,  46.,  47.,  48.,  49.,  50.,  51.,  52.,  53.,  54.,  55.,\n",
       "        56.,  57.,  58.,  59.,  60.,  61.,  62.,  63.,  64.,  65.,  66.,\n",
       "        67.,  68.,  69.,  70.,  71.,  72.,  73.,  74.,  75.,  76.,  77.,\n",
       "        78.,  79.,  80.,  81.,  82.,  83.,  84.,  85.,  86.,  87.,  88.,\n",
       "        89.,  90.,  91.,  92.,  93.,  94.,  95.,  96.,  97.,  98.,  99.,\n",
       "       100.])"
      ]
     },
     "execution_count": 95,
     "metadata": {},
     "output_type": "execute_result"
    }
   ],
   "source": [
    "np.linspace(1,100,100)"
   ]
  },
  {
   "cell_type": "code",
   "execution_count": 118,
   "metadata": {},
   "outputs": [
    {
     "name": "stdout",
     "output_type": "stream",
     "text": [
      "(1, 3)\n",
      "(1, 3)\n"
     ]
    }
   ],
   "source": [
    "for i in range(0,2):\n",
    "    print(df.iloc[[i]].values.shape)"
   ]
  },
  {
   "cell_type": "code",
   "execution_count": 119,
   "metadata": {},
   "outputs": [],
   "source": [
    "df = pd.DataFrame({'A': 'a a b'.split(), 'B': [1,2,3], 'C': [4,6, 5]})\n",
    "g = df.groupby('A')"
   ]
  },
  {
   "cell_type": "code",
   "execution_count": 120,
   "metadata": {},
   "outputs": [
    {
     "data": {
      "text/html": [
       "<div>\n",
       "<style scoped>\n",
       "    .dataframe tbody tr th:only-of-type {\n",
       "        vertical-align: middle;\n",
       "    }\n",
       "\n",
       "    .dataframe tbody tr th {\n",
       "        vertical-align: top;\n",
       "    }\n",
       "\n",
       "    .dataframe thead th {\n",
       "        text-align: right;\n",
       "    }\n",
       "</style>\n",
       "<table border=\"1\" class=\"dataframe\">\n",
       "  <thead>\n",
       "    <tr style=\"text-align: right;\">\n",
       "      <th></th>\n",
       "      <th>A</th>\n",
       "      <th>B</th>\n",
       "      <th>C</th>\n",
       "    </tr>\n",
       "  </thead>\n",
       "  <tbody>\n",
       "    <tr>\n",
       "      <th>0</th>\n",
       "      <td>a</td>\n",
       "      <td>1</td>\n",
       "      <td>4</td>\n",
       "    </tr>\n",
       "    <tr>\n",
       "      <th>1</th>\n",
       "      <td>a</td>\n",
       "      <td>2</td>\n",
       "      <td>6</td>\n",
       "    </tr>\n",
       "    <tr>\n",
       "      <th>2</th>\n",
       "      <td>b</td>\n",
       "      <td>3</td>\n",
       "      <td>5</td>\n",
       "    </tr>\n",
       "  </tbody>\n",
       "</table>\n",
       "</div>"
      ],
      "text/plain": [
       "   A  B  C\n",
       "0  a  1  4\n",
       "1  a  2  6\n",
       "2  b  3  5"
      ]
     },
     "execution_count": 120,
     "metadata": {},
     "output_type": "execute_result"
    }
   ],
   "source": [
    "df"
   ]
  },
  {
   "cell_type": "code",
   "execution_count": 125,
   "metadata": {},
   "outputs": [],
   "source": [
    "from scipy.stats import norm"
   ]
  },
  {
   "cell_type": "code",
   "execution_count": 133,
   "metadata": {},
   "outputs": [],
   "source": [
    "dat = norm.rvs(loc=0,scale=1,size=1000)"
   ]
  },
  {
   "cell_type": "code",
   "execution_count": 135,
   "metadata": {},
   "outputs": [
    {
     "data": {
      "text/plain": [
       "array([ 1.43080222e-02,  1.11126084e+00, -7.53907308e-01, -4.12159884e-01,\n",
       "       -5.94327730e-02, -2.73112045e-01,  8.73116766e-02,  1.23859852e+00,\n",
       "       -2.10238211e-01,  3.09020011e-01, -1.49516822e+00, -5.87535625e-01,\n",
       "        6.79505187e-01,  7.69135712e-01, -1.18601553e+00, -5.89919364e-01,\n",
       "        1.00571557e+00,  1.76076567e+00, -6.13730285e-01, -6.77273484e-01,\n",
       "       -8.17167906e-02, -3.04895578e-02, -6.41856725e-01, -7.45631134e-02,\n",
       "       -1.49701593e+00, -2.02404765e+00,  7.74715447e-01, -5.71937781e-01,\n",
       "        9.31555508e-01, -9.46960492e-01, -1.50207347e+00, -1.09373928e+00,\n",
       "       -3.24943281e-01,  1.54160461e+00,  2.83196861e+00, -1.59371308e+00,\n",
       "        1.66231311e-01, -4.68381522e-02,  4.93861267e-01,  5.88414934e-01,\n",
       "        1.14576664e+00, -1.45286828e+00,  3.97848643e-01, -7.06671786e-01,\n",
       "       -2.04578926e-01, -2.32766924e+00, -5.02310160e-01, -4.55670038e-02,\n",
       "        7.06716028e-01,  7.51017361e-02,  1.36805361e+00, -1.52965785e+00,\n",
       "        2.64724440e+00,  6.16129972e-01, -6.19848719e-01, -6.34697905e-01,\n",
       "       -5.66596799e-01, -1.21553990e+00, -6.38128622e-02, -6.13303036e-01,\n",
       "        8.12068936e-01, -7.95518350e-01, -6.60811831e-01, -3.22238356e-01,\n",
       "        2.64617758e-01,  8.92014455e-01, -3.89074145e-02,  2.69114871e-01,\n",
       "        8.72687658e-01, -8.09289617e-01, -6.59985776e-01, -4.62859084e-01,\n",
       "       -5.85973456e-01, -2.84473443e+00, -4.80819627e-02, -3.59388921e-01,\n",
       "       -7.41268249e-01, -1.01029622e-02, -9.27027399e-01,  8.80004496e-01,\n",
       "        1.68420828e-01, -4.36111257e-01, -1.01055476e+00,  7.83410870e-01,\n",
       "       -1.38929997e+00,  8.88532848e-02, -7.54944652e-01, -1.54424650e+00,\n",
       "       -5.64118079e-01,  1.15849527e+00,  2.04388329e-01,  9.48707487e-01,\n",
       "       -1.27185732e+00, -4.82863859e-01, -1.93193891e-02, -3.04353348e-01,\n",
       "       -7.72742020e-01,  1.18343374e+00,  1.56834947e-01, -1.20496653e+00,\n",
       "       -1.22919309e+00,  2.87651442e-01, -1.91874494e-01,  1.37211483e+00,\n",
       "       -8.33155579e-01, -5.16792530e-02,  1.93342014e-01,  9.78162564e-02,\n",
       "        1.07951793e+00, -1.29366876e-01,  5.92697622e-01, -9.99294526e-02,\n",
       "       -1.24580052e+00, -2.97607497e-01, -3.57179069e-01,  1.72637971e+00,\n",
       "       -7.16309460e-01, -6.36812344e-01,  1.31780236e-01,  2.73029833e-01,\n",
       "        1.13135434e-02,  5.52836848e-01, -2.14428703e-02, -2.42506152e+00,\n",
       "        2.19316665e-01, -9.76413337e-04, -8.63222069e-01, -1.62684547e-01,\n",
       "       -1.20698876e+00,  1.89045252e-01,  6.96502151e-01, -5.60636952e-01,\n",
       "        1.04450773e+00,  1.53255712e+00, -2.52409693e+00,  6.21032257e-01,\n",
       "        4.84084904e-01, -1.97498774e+00,  6.13912674e-01,  8.87309359e-01,\n",
       "        6.79891103e-01, -9.65040440e-01,  4.87783362e-01, -4.38016343e-01,\n",
       "        2.16415421e+00,  1.65760122e-01,  9.49861681e-01,  2.00185927e-01,\n",
       "       -6.21747192e-01, -4.04475937e-01, -4.85233058e-01, -8.88384462e-01,\n",
       "        1.20607201e+00,  6.74742624e-01,  1.13533043e+00, -5.95991275e-01,\n",
       "        1.69353223e+00,  8.00264166e-01,  2.58592648e+00, -3.33117033e-02,\n",
       "       -1.23459914e+00,  8.11423265e-02,  2.90185032e-01, -1.19662313e-01,\n",
       "        5.75521225e-01, -4.71079387e-01, -7.03665264e-01, -1.68550956e+00,\n",
       "        1.32748131e+00,  2.15998221e+00,  3.51674987e-01, -1.15775382e+00,\n",
       "       -4.57306012e-01,  6.01168982e-01, -2.48223264e-01, -2.24378196e-01,\n",
       "        1.31385723e+00, -1.07925781e+00,  1.20167548e+00, -2.49337640e+00,\n",
       "       -1.83845945e-01,  4.47237583e-01,  9.08078385e-01,  8.59669584e-02,\n",
       "        5.79650357e-01, -8.90926699e-01,  1.18703194e+00,  8.54075455e-01,\n",
       "        5.55288700e-01, -9.49313941e-01,  5.10803643e-01,  3.97220264e-01,\n",
       "        2.89304281e-01, -1.74020336e-01, -2.33603023e-01,  1.07926664e+00,\n",
       "        1.45221154e+00, -1.18334731e+00,  2.05502049e-01,  1.79099140e+00,\n",
       "       -9.91401361e-01,  1.70400622e-01,  8.22019452e-02, -8.26898440e-01,\n",
       "        8.50176834e-01,  2.76560311e-02, -2.22924092e-01, -8.00869790e-01,\n",
       "       -2.20433409e+00, -8.25878167e-01, -2.74036886e+00,  1.31209103e+00,\n",
       "        2.15545582e-01,  6.94312195e-01,  9.75295152e-01,  7.52875024e-01,\n",
       "        6.02919724e-01, -1.80295246e+00,  9.28250730e-01, -4.31551576e-01,\n",
       "        8.43476870e-01,  5.15445670e-01,  1.81402286e+00, -1.19509639e+00,\n",
       "       -7.38489823e-01,  3.92589937e-01, -6.48024881e-01, -6.96404102e-01,\n",
       "       -5.95050010e-01, -5.30002814e-01, -8.72481519e-02, -5.96357444e-01,\n",
       "        6.32910598e-01,  3.31302176e-02, -4.95768978e-01, -1.39772575e-01,\n",
       "       -1.54386335e-01, -2.80956584e-01,  6.61647363e-01,  1.96988970e-01,\n",
       "        1.05917954e+00,  6.67973074e-01, -1.37275654e+00,  1.53610935e+00,\n",
       "       -6.62360535e-01,  4.46033880e-01, -4.94764936e-01, -9.15478565e-01,\n",
       "       -1.67027127e+00,  1.24474617e+00, -5.25437072e-01, -1.93247151e+00,\n",
       "       -2.28615420e+00, -5.61402617e-01, -1.10860100e+00,  6.84544457e-01,\n",
       "        1.31074212e-01, -4.19880928e-01, -3.61801816e-01,  3.55565491e-01,\n",
       "       -2.81188640e-01, -6.30667803e-01,  3.04425041e-01, -1.27838005e+00,\n",
       "        2.57712050e-01, -3.76582173e-02,  5.16179166e-01, -3.21042039e-02,\n",
       "        2.98323121e-01,  1.16764218e+00, -1.13527052e+00, -8.74702577e-01,\n",
       "        6.76143966e-01,  5.62538245e-01, -1.21841301e+00, -1.13381229e+00,\n",
       "       -6.71880883e-02, -6.61225887e-01, -1.08927743e+00,  5.30721546e-01,\n",
       "        8.11764597e-01,  4.69147235e-02,  4.56921123e-01, -7.77389224e-01,\n",
       "        9.77911563e-01,  1.75162384e+00, -8.36080800e-02, -5.07816787e-01,\n",
       "        2.72018436e-02, -4.25494772e-01,  1.46419094e-01, -2.39368780e+00,\n",
       "        1.35359756e+00,  8.37525198e-01, -1.98442355e-01,  2.09997967e+00,\n",
       "        3.90069025e-01, -9.87483121e-02, -2.39536374e+00, -1.40551260e+00,\n",
       "       -1.98886830e+00,  4.74588774e-01, -1.60496634e+00,  7.99510588e-01,\n",
       "        1.74093641e-01, -9.18528387e-01, -4.91762109e-01, -4.52989814e-01,\n",
       "       -1.62164503e+00,  3.66844905e-01, -1.60721507e-01, -4.79273734e-01,\n",
       "       -1.39907174e+00, -2.53579785e-01, -5.33231890e-01,  7.94244721e-01,\n",
       "       -1.44785961e+00,  1.59682298e+00, -3.98105708e-01, -6.71889996e-01,\n",
       "        1.84679698e+00, -1.20052466e+00, -1.24320434e+00, -2.21377447e-01,\n",
       "       -2.16253469e-01, -4.16090613e-02, -4.93235522e-01,  7.00733997e-02,\n",
       "       -6.66167426e-01, -7.53015561e-01,  2.46368850e-01, -9.04227986e-01,\n",
       "        4.59267991e-01, -1.61334169e+00, -4.62509973e-01, -4.23410210e-02,\n",
       "       -2.41460508e+00, -1.25130621e+00, -2.14618826e+00,  2.31701152e+00,\n",
       "        4.44069596e-01,  5.92187065e-01,  1.13186258e+00, -1.21065297e-01,\n",
       "       -7.66040418e-01,  8.55429132e-01, -1.20169509e+00,  3.59305538e-01,\n",
       "        5.96415162e-01, -1.46463190e+00,  1.90890718e+00,  3.34196943e-01,\n",
       "        4.69276132e-02, -9.28594572e-01, -5.40077329e-01, -9.27738390e-01,\n",
       "       -5.55091927e-01, -3.92232664e-01, -7.13723220e-01,  2.62489971e-01,\n",
       "       -9.43534037e-01, -6.24224357e-01, -1.39289616e-03,  7.82479491e-01,\n",
       "       -8.37772612e-01,  2.47252680e+00, -3.07807271e-01, -4.97947746e-01,\n",
       "       -5.17129003e-01,  5.45657497e-01,  1.50534461e-01, -1.56387207e-01,\n",
       "        1.14377312e+00, -3.36855558e-01, -1.24011356e+00,  2.55785582e-03,\n",
       "       -1.05189175e+00, -1.90021329e+00,  7.67821911e-02, -2.34797067e-01,\n",
       "       -1.41983436e+00,  7.85331877e-02,  7.29043965e-01, -1.10607333e+00,\n",
       "       -1.34943316e+00, -1.08929235e+00, -2.28276132e+00,  1.95894795e-01,\n",
       "       -7.55974085e-01,  4.91004037e-01,  7.74886496e-01,  5.06480921e-01,\n",
       "       -1.16712255e+00,  8.34731474e-01, -1.40122545e+00, -5.83282313e-01,\n",
       "        9.11556394e-01,  1.35915589e+00, -4.33838771e-01,  8.80831690e-01,\n",
       "        2.19072783e-01, -1.36558481e+00,  1.90432222e-02,  3.47018839e-01,\n",
       "       -2.08519901e-02,  1.55196514e+00,  2.42946486e+00, -1.74475617e+00,\n",
       "        1.45198377e+00, -8.21826049e-01, -7.71125947e-01,  8.48131431e-01,\n",
       "        6.99229697e-01,  7.51099912e-01, -7.44703772e-01,  9.38766448e-01,\n",
       "       -3.09087212e-01,  4.24315494e-01,  1.96579179e-01, -6.57647532e-01,\n",
       "       -1.81038349e+00, -1.08954173e+00,  9.14623484e-01, -3.50086898e-01,\n",
       "        6.31097480e-01,  1.01001648e+00,  2.75615224e-01, -2.53340650e-01,\n",
       "        9.68248589e-01,  8.77853197e-01, -2.09799434e+00,  1.29574975e+00,\n",
       "       -1.08968408e+00,  8.54736107e-01,  7.82122108e-01,  3.12815880e-01,\n",
       "        1.14372445e+00, -2.94874923e-01,  1.18771403e+00,  5.83853133e-01,\n",
       "       -1.76972789e-01, -2.86522001e-01,  1.38209765e-01, -2.37568587e+00,\n",
       "        1.57847129e+00, -1.19182896e+00,  2.43509241e-01,  1.45063982e-01,\n",
       "        1.24614311e+00, -9.76987209e-01,  5.18328272e-02, -2.38615735e-01,\n",
       "       -3.43527680e-01,  1.27821738e-01, -4.59475520e-01, -1.24027741e+00,\n",
       "        8.53051776e-01, -8.28900103e-01,  4.34856744e-01,  1.05371809e+00,\n",
       "        1.62518638e+00, -2.46742264e-01,  1.59174695e+00,  1.01606009e-01,\n",
       "        5.05255030e-01,  8.35043752e-01, -9.17719797e-01, -1.88463678e-01,\n",
       "       -1.25142774e+00, -6.92070267e-01, -4.03353797e-01, -1.24913007e+00,\n",
       "        4.03356405e-01,  6.42258637e-01, -8.97596666e-01,  6.99541407e-01,\n",
       "       -9.44969645e-01,  1.22983161e+00,  1.07243756e+00, -7.73085277e-01,\n",
       "       -4.88175810e-01, -2.50211915e-02, -4.76934802e-01,  6.05965989e-01,\n",
       "        2.38159773e+00,  8.59936353e-01,  5.92426270e-01,  4.07654018e-01,\n",
       "        3.98787059e-01, -7.87192640e-02, -1.59920687e+00,  5.28098015e-01,\n",
       "        1.47215140e+00, -3.53125064e-01,  3.17526984e-01, -7.79200291e-01,\n",
       "       -9.11684927e-01,  1.77859290e+00, -1.19412268e+00,  3.61454067e-01,\n",
       "        1.14804721e+00,  8.49452670e-01, -4.04267319e-01,  1.13750165e+00,\n",
       "       -1.90515556e-01,  1.38623086e+00, -7.49379810e-01, -2.35879263e-02,\n",
       "        2.28806435e-01, -1.80932196e+00, -1.21636959e+00,  3.69853237e-01,\n",
       "       -2.64094556e-01, -1.13839687e+00, -1.40088436e+00, -2.02157818e+00,\n",
       "        3.97341996e-01, -1.14177286e+00, -5.97462131e-01,  1.49843720e-01,\n",
       "       -9.89376988e-01, -1.52057068e-01, -1.01711414e+00, -1.08807719e+00,\n",
       "       -1.58639265e+00,  1.07427527e+00,  1.32465096e+00,  1.25216809e+00,\n",
       "        1.08534066e+00, -1.78390404e-01, -5.74540467e-01, -8.48842497e-01,\n",
       "       -2.00036435e+00, -1.65597136e-01,  1.27610228e+00,  2.71253019e+00,\n",
       "       -1.44234049e+00,  5.04942421e-01, -2.92599736e-02,  3.47145111e-01,\n",
       "       -1.47636735e-01,  3.50596245e-01, -7.51637896e-01, -2.43932587e-01,\n",
       "        4.46818954e-01,  4.42963073e-01,  1.66529620e-02, -1.04879965e+00,\n",
       "       -2.35884974e-01, -2.91113465e-01, -5.28484881e-01, -2.40400943e-01,\n",
       "       -1.31409684e+00, -7.08086841e-01, -8.18975015e-01,  4.95093285e-01,\n",
       "        7.77830734e-01, -2.01514566e+00, -1.35933184e-01,  7.74520011e-01,\n",
       "        2.36118645e-01,  8.94848385e-01, -1.07623042e+00, -1.67526480e+00,\n",
       "       -7.60878458e-01, -1.48737250e+00,  2.31453333e-01,  6.37728769e-02,\n",
       "       -2.02844501e+00,  2.28072778e-01, -1.49935220e+00,  7.73848884e-01,\n",
       "        1.22312896e+00,  9.13926579e-01,  1.75168364e+00, -1.09005408e+00,\n",
       "        5.04070650e-01, -1.36961280e+00, -9.64284437e-01, -4.98051464e-01,\n",
       "        1.35345998e+00,  1.15187336e-01, -8.05268793e-01, -7.22517146e-01,\n",
       "        3.87015402e-01, -1.44915054e+00,  6.31447817e-01,  1.12447025e+00,\n",
       "       -1.14181976e+00,  6.32773213e-01, -2.77769455e-01, -5.24335456e-01,\n",
       "        1.75197258e+00,  7.99016035e-01,  1.27469804e+00, -1.20680694e-01,\n",
       "       -2.74045082e-01,  1.20147097e+00, -1.03033926e-01,  1.51917523e+00,\n",
       "       -4.14672155e-01,  4.53894206e-01,  7.14318337e-01,  1.65331002e-01,\n",
       "        5.77582484e-01, -1.23564888e-01,  3.09884596e-01,  3.42793763e-01,\n",
       "       -1.62465743e+00,  9.43113251e-01,  1.00533845e+00,  1.21531911e+00,\n",
       "       -2.42545511e-02,  1.08971729e+00, -6.89995851e-01, -4.17851773e-03,\n",
       "        1.26460295e+00, -8.25862139e-01,  2.37231407e-01, -6.59572259e-01,\n",
       "        1.60178048e+00,  6.39097437e-01,  5.92517034e-01,  4.83259017e-01,\n",
       "        1.21192279e+00,  1.82456516e-01, -7.39937410e-02,  1.25920591e+00,\n",
       "        8.76044470e-01,  7.49027684e-01, -4.08825073e-01,  9.40664775e-01,\n",
       "       -3.50185225e-01, -2.03364236e-01, -1.35259082e+00, -1.10776914e+00,\n",
       "        2.72873045e-01,  5.50258831e-01,  2.48724297e+00, -1.19580341e-01,\n",
       "       -4.83091563e-01,  1.29634771e+00,  1.03841808e+00,  2.58176248e-01,\n",
       "        5.60232899e-01, -3.21529431e-01,  1.04135523e-01,  1.67763536e+00,\n",
       "        9.82069872e-01,  7.91187469e-01, -6.47382866e-01,  1.05887744e-01,\n",
       "       -2.05947670e+00, -1.25119371e+00, -2.31187853e-01,  9.29129080e-02,\n",
       "       -2.19383943e+00, -7.83794812e-01,  2.03876830e+00,  1.38395962e+00,\n",
       "        4.01999543e-02, -1.72723060e-01,  8.01119160e-01,  1.18220236e+00,\n",
       "        1.24164755e+00, -5.62834512e-01, -2.18841901e+00, -9.10076893e-01,\n",
       "       -1.82965972e-01, -1.08607057e+00, -7.25248346e-01,  2.02960731e+00,\n",
       "        4.13453261e-01,  5.29384850e-01, -6.72575853e-01, -1.51084866e+00,\n",
       "        9.91040127e-01,  1.33034491e+00, -1.64269624e-01, -1.67948122e+00,\n",
       "        1.14418614e+00, -1.44779760e+00,  1.51396008e+00, -2.60595572e-01,\n",
       "        3.81827220e-02,  3.89829705e-01,  1.04584963e-01, -1.99585625e+00,\n",
       "       -4.71416691e-01,  4.01566524e-02, -1.47511939e+00, -1.69517521e-01,\n",
       "        1.34925362e-01,  7.95162719e-01,  1.06635103e+00, -9.87657598e-01,\n",
       "        2.95579402e-01, -1.18937266e+00, -8.50113815e-01,  5.55048864e-01,\n",
       "        8.40600246e-01, -1.42560444e-01, -2.79629041e-01, -4.79080804e-01,\n",
       "       -1.08766280e+00,  6.77547640e-01,  3.78608718e-01,  6.85838325e-01,\n",
       "       -2.20346942e-01, -1.22463268e+00,  3.01476692e-01,  5.25884133e-01,\n",
       "        6.63347839e-01, -1.32060526e+00, -8.17369464e-01,  6.48293027e-01,\n",
       "       -1.42942699e+00,  6.01636208e-01,  7.34883644e-01,  2.13129780e+00,\n",
       "        7.24084776e-03, -8.13635697e-01,  6.60241467e-01, -1.04736261e+00,\n",
       "        2.27144083e-01, -1.53680080e+00, -9.83690597e-01, -1.28191660e+00,\n",
       "        3.79110994e-01,  1.48330116e+00, -2.18449689e+00,  8.18755832e-01,\n",
       "       -3.27993065e-01, -5.63413268e-01,  2.08393986e+00,  4.77020628e-01,\n",
       "        3.01439958e-01, -2.94689361e-02,  4.31826617e-01, -6.48276774e-01,\n",
       "       -1.52399620e+00,  2.40925023e-01, -6.53369060e-01, -6.04029961e-01,\n",
       "        2.10609416e-01, -6.75719118e-01,  5.03042612e-01,  8.12611690e-01,\n",
       "       -1.73358428e+00,  1.87044997e-01,  7.85897609e-01,  9.13372414e-01,\n",
       "       -7.96038825e-01,  4.18338281e-01, -8.76513425e-01,  1.25470896e-01,\n",
       "       -4.12931776e-02, -1.31015116e+00,  6.69813162e-01, -7.16362723e-01,\n",
       "       -1.55819316e+00,  9.55738098e-02, -8.15648088e-01,  1.27745508e+00,\n",
       "       -4.48894397e-01,  4.17720622e-01, -9.36096208e-01,  9.19638686e-02,\n",
       "        1.17132446e+00,  9.52114753e-01,  1.06529721e+00, -5.60011529e-01,\n",
       "        1.37736895e+00, -7.38262086e-01, -5.84821695e-02,  1.80170179e+00,\n",
       "        5.48063099e-01,  8.02823222e-01,  1.76883778e+00, -2.82783078e+00,\n",
       "       -1.76486497e-01, -3.47041228e-01,  1.48638960e+00, -7.74233247e-01,\n",
       "        5.44396403e-02,  7.40583081e-01,  9.31223697e-01, -1.05429341e+00,\n",
       "       -6.41332430e-02, -2.13569118e+00, -4.50136848e-01, -8.36829288e-02,\n",
       "       -6.19363207e-01,  8.92677452e-01, -3.06214108e-01,  1.05631319e+00,\n",
       "       -2.31286851e+00,  2.75621907e-01,  7.73197045e-01,  2.13370238e+00,\n",
       "       -1.08434836e+00,  1.45879558e+00,  1.58277594e+00, -1.13749642e+00,\n",
       "       -1.70608698e+00,  4.48044685e-01, -2.81474173e-01, -1.52554243e+00,\n",
       "        9.35906814e-01, -1.27745523e+00, -9.66261997e-01,  1.18613472e+00,\n",
       "        3.10681122e-01, -2.62445093e-01, -9.99240532e-02, -1.17303627e-01,\n",
       "        5.42818107e-01,  3.18672459e-01, -7.44101769e-01,  1.08991860e-01,\n",
       "       -1.72761722e-01,  5.64071308e-01,  1.74094488e+00,  6.73611026e-01,\n",
       "        1.78603790e+00,  6.15852964e-01,  1.15408102e-01, -3.77272058e-01,\n",
       "       -1.83980079e-01, -5.01325366e-01,  1.70517290e+00,  4.20184920e-01,\n",
       "       -7.87264728e-01,  1.10348404e-01,  9.84361028e-01, -1.87342725e-01,\n",
       "        9.43942567e-01,  2.38060733e+00, -4.44055311e-01,  1.97993199e-01,\n",
       "        1.01057868e+00, -3.87632383e-01,  1.90679020e+00,  9.53233427e-01,\n",
       "        1.37613815e+00,  1.26418806e+00, -5.43663819e-01, -1.03245694e+00,\n",
       "       -3.45076672e-01,  1.98108153e-01,  4.81221174e-01, -1.36598523e+00,\n",
       "        5.72155415e-01,  1.62262783e+00,  2.73814311e-01,  2.79343044e+00,\n",
       "        1.29885077e+00, -1.19465256e+00, -8.02578799e-01, -1.10791847e+00,\n",
       "        1.28255213e-02,  3.85291007e-01, -1.87237832e+00,  5.98548500e-01,\n",
       "       -3.12449596e-01, -4.57836543e-01, -6.76711072e-01,  5.97473510e-01,\n",
       "        1.55101700e+00,  1.36747902e+00, -2.48882004e+00,  1.66492363e-01,\n",
       "       -3.50914607e-02,  8.39974891e-02,  1.17792683e+00, -1.71801734e+00,\n",
       "       -1.31217042e+00, -1.37565221e+00,  2.85114760e-01,  1.03313092e-01,\n",
       "        6.16002276e-01,  1.31791909e+00,  2.23093862e+00, -7.77567912e-01,\n",
       "        3.82654260e-01,  5.99642490e-01,  4.25238970e-02,  2.48103543e-01,\n",
       "       -2.01011610e+00,  5.39618224e-01,  6.75789375e-01, -4.05903823e-01,\n",
       "        5.38981091e-01,  1.53082725e+00, -3.70900976e-01,  1.79364417e+00,\n",
       "        6.46266730e-01,  5.45790950e-01, -2.13913142e-01,  1.68542911e+00,\n",
       "       -2.09858320e-01,  5.40597982e-01, -2.96523663e-01,  6.42853746e-02,\n",
       "        8.07856355e-01, -1.48801347e+00,  2.79110545e-01,  8.31391632e-01,\n",
       "        1.63599450e+00,  1.43321234e+00,  1.03831399e-01, -7.26771734e-01,\n",
       "       -5.24785784e-01,  1.35899483e+00, -9.40822255e-02,  1.71238412e+00,\n",
       "        1.70974371e+00, -7.84921327e-01,  2.11624854e-01, -1.28472178e+00,\n",
       "        1.50998812e+00, -7.55497001e-01, -2.35589408e+00, -8.13222623e-01,\n",
       "        7.19259439e-01,  9.86930245e-01,  4.97208101e-01, -1.69970752e+00,\n",
       "       -7.35210115e-02, -6.02172057e-01, -1.26311450e+00, -6.55011192e-01,\n",
       "       -6.60433433e-01,  8.51449678e-01, -3.17996870e+00, -1.08985460e+00,\n",
       "        5.01050555e-01, -2.13221179e-02,  5.58023931e-01, -1.44123427e+00,\n",
       "       -3.34081595e-01, -4.50967157e-01,  1.82919286e+00, -5.26164096e-01,\n",
       "       -7.41521199e-01, -7.85361828e-01, -3.04471323e-01,  4.63619096e-01,\n",
       "       -6.93150816e-01,  1.79296676e+00,  6.05593019e-02, -5.22811786e-01,\n",
       "       -1.18478461e+00, -1.08754402e+00, -6.32816828e-01,  1.42765078e+00,\n",
       "       -6.90690089e-01, -3.50776921e-03,  1.21756992e+00,  1.37318921e+00,\n",
       "        5.95186737e-01,  1.47063204e+00,  1.27668809e+00,  7.16859136e-01,\n",
       "        1.23315319e+00, -4.44999407e-01,  7.24617671e-01,  6.28956066e-01,\n",
       "       -1.61856766e-01,  4.23363527e-01,  1.51109013e+00, -8.75386982e-02,\n",
       "       -5.90388005e-02,  7.30472728e-01,  5.43408372e-01, -4.78309252e-01,\n",
       "        1.58426619e+00,  1.38926391e+00,  1.38005418e+00, -4.08592521e-01,\n",
       "       -2.31980588e-01,  4.18009245e-01, -2.63259930e-01, -1.70110752e+00,\n",
       "       -1.54902913e-01, -7.02644065e-01,  3.20876561e-01,  7.65136998e-01,\n",
       "       -1.23301886e-01,  1.03553335e+00, -1.20313339e+00, -1.57760261e+00,\n",
       "       -1.50788286e+00, -8.32327186e-01, -8.45395823e-01,  1.52145797e+00,\n",
       "        1.00289083e+00, -3.85018437e-01, -1.28414941e+00,  9.61195171e-01])"
      ]
     },
     "execution_count": 135,
     "metadata": {},
     "output_type": "execute_result"
    }
   ],
   "source": [
    "dat"
   ]
  },
  {
   "cell_type": "code",
   "execution_count": 141,
   "metadata": {},
   "outputs": [
    {
     "data": {
      "text/plain": [
       "array([0.39890145, 0.21515666, 0.30025395, 0.36645615, 0.39823832,\n",
       "       0.38433772, 0.39742454, 0.18525877, 0.39022235, 0.3803417 ,\n",
       "       0.13045818, 0.33569993, 0.31669941, 0.29679209, 0.19745295,\n",
       "       0.33522915, 0.24058774, 0.08466217, 0.33045957, 0.31717925,\n",
       "       0.39761251, 0.39875689, 0.32467566, 0.39783483, 0.13009805,\n",
       "       0.05144083, 0.29551652, 0.33874931, 0.258506  , 0.25479254,\n",
       "       0.12911512, 0.21935336, 0.37842681, 0.12157658, 0.00723401,\n",
       "       0.11204001, 0.39346823, 0.39850492, 0.35314095, 0.33552641,\n",
       "       0.20693943, 0.13885131, 0.36858634, 0.31079211, 0.39068065,\n",
       "       0.02657032, 0.35165796, 0.39852832, 0.3107824 , 0.39781879,\n",
       "       0.15649615, 0.12382759, 0.0119995 , 0.32997229, 0.32921483,\n",
       "       0.3261626 , 0.33978083, 0.19057544, 0.39813084, 0.3305462 ,\n",
       "       0.2868871 , 0.29072913, 0.32069182, 0.37875818, 0.38521648,\n",
       "       0.26799595, 0.39864044, 0.38475445, 0.27260528, 0.28753423,\n",
       "       0.32086682, 0.35841713, 0.33600778, 0.00697659, 0.39848139,\n",
       "       0.3739928 , 0.30310444, 0.39892192, 0.25959607, 0.2708629 ,\n",
       "       0.3933241 , 0.3627523 , 0.23941688, 0.29352137, 0.15197857,\n",
       "       0.39737058, 0.30001907, 0.12108201, 0.34025732, 0.2039268 ,\n",
       "       0.39069588, 0.25437099, 0.17768392, 0.35504267, 0.39886784,\n",
       "       0.38088644, 0.29596809, 0.19805783, 0.3940659 , 0.1930298 ,\n",
       "       0.18742128, 0.38277413, 0.39166576, 0.15562779, 0.28195363,\n",
       "       0.3984099 , 0.39155507, 0.39703829, 0.22276942, 0.3956179 ,\n",
       "       0.33467888, 0.39695535, 0.18360878, 0.38166056, 0.37428903,\n",
       "       0.08989329, 0.30866827, 0.32572445, 0.39549325, 0.38434635,\n",
       "       0.39891675, 0.34240781, 0.39885057, 0.02108064, 0.38946221,\n",
       "       0.39894209, 0.27485415, 0.3936978 , 0.19255962, 0.39187687,\n",
       "       0.31301751, 0.34092409, 0.23120819, 0.12327912, 0.01649874,\n",
       "       0.32897318, 0.35483314, 0.05674278, 0.33042257, 0.26912011,\n",
       "       0.31661635, 0.25042644, 0.354196  , 0.36245038, 0.03836076,\n",
       "       0.393499  , 0.25409244, 0.39102815, 0.32882706, 0.36760771,\n",
       "       0.35463574, 0.26886335, 0.19277272, 0.31772237, 0.20941735,\n",
       "       0.33402437, 0.09508688, 0.28963033, 0.0140878 , 0.39872099,\n",
       "       0.18617726, 0.39763111, 0.38249404, 0.39609624, 0.33805358,\n",
       "       0.35704394, 0.31145172, 0.09638451, 0.16529197, 0.03870834,\n",
       "       0.3750199 , 0.20410198, 0.35933401, 0.33299074, 0.3868393 ,\n",
       "       0.38902514, 0.16829297, 0.22283198, 0.19379575, 0.01782058,\n",
       "       0.39225694, 0.36097403, 0.26414906, 0.39747085, 0.33724831,\n",
       "       0.26825595, 0.19721497, 0.27702127, 0.34194297, 0.25422464,\n",
       "       0.35014823, 0.36867842, 0.38259166, 0.39294718, 0.38820423,\n",
       "       0.22282986, 0.13898383, 0.19807808, 0.39060671, 0.08023755,\n",
       "       0.24405129, 0.3931922 , 0.3975967 , 0.2834218 , 0.2779431 ,\n",
       "       0.39878974, 0.38915167, 0.28948994, 0.03513762, 0.28366086,\n",
       "       0.0093372 , 0.16868369, 0.38978168, 0.31349457, 0.24794735,\n",
       "       0.30048756, 0.33263994, 0.07853135, 0.25930165, 0.36347058,\n",
       "       0.27952455, 0.34931519, 0.07697474, 0.19532973, 0.30372817,\n",
       "       0.36935318, 0.32338664, 0.31303888, 0.33421165, 0.3466672 ,\n",
       "       0.39742674, 0.33395146, 0.32653229, 0.3987234 , 0.35280776,\n",
       "       0.39506431, 0.39421608, 0.38350338, 0.3205147 , 0.39127648,\n",
       "       0.22766747, 0.31916963, 0.15549079, 0.12260904, 0.32036341,\n",
       "       0.36116815, 0.35298324, 0.26237276, 0.09888066, 0.18385001,\n",
       "       0.34750348, 0.06165743, 0.02924084, 0.34077768, 0.21579279,\n",
       "       0.31561281, 0.39552995, 0.36528094, 0.37366754, 0.37450432,\n",
       "       0.38347837, 0.3269953 , 0.38087813, 0.1762122 , 0.38591186,\n",
       "       0.3986595 , 0.34918305, 0.39873674, 0.38157919, 0.20176883,\n",
       "       0.20943159, 0.2721258 , 0.31742178, 0.34056027, 0.18991026,\n",
       "       0.20977837, 0.39804284, 0.32060406, 0.22042425, 0.34653508,\n",
       "       0.286958  , 0.39850349, 0.35939724, 0.29490396, 0.24731461,\n",
       "       0.08603238, 0.39755035, 0.35068129, 0.39879471, 0.36441519,\n",
       "       0.39468875, 0.02273592, 0.15960525, 0.28092634, 0.39116406,\n",
       "       0.04398547, 0.36971773, 0.39700193, 0.02264486, 0.14857411,\n",
       "       0.05520305, 0.35645197, 0.11004158, 0.28980496, 0.39294217,\n",
       "       0.26164001, 0.35350646, 0.36004062, 0.10712008, 0.37298162,\n",
       "       0.39382279, 0.3556564 , 0.14992211, 0.38631975, 0.34607261,\n",
       "       0.29102361, 0.13986365, 0.11148554, 0.36854863, 0.31833321,\n",
       "       0.0724928 , 0.19406381, 0.18420297, 0.3892854 , 0.38972212,\n",
       "       0.39859708, 0.35325003, 0.39796402, 0.3195543 , 0.30045576,\n",
       "       0.38701674, 0.2650723 , 0.35901106, 0.10856847, 0.35847503,\n",
       "       0.39858484, 0.02162085, 0.18235095, 0.03987521, 0.02723616,\n",
       "       0.36148402, 0.33478013, 0.21024222, 0.39602936, 0.29749808,\n",
       "       0.27670093, 0.19379118, 0.37400401, 0.33393996, 0.13648892,\n",
       "       0.06451214, 0.37727447, 0.39850325, 0.25921888, 0.3448036 ,\n",
       "       0.25942496, 0.34198033, 0.36940497, 0.30923958, 0.38543257,\n",
       "       0.25561912, 0.32831999, 0.39894189, 0.29373549, 0.28086813,\n",
       "       0.01876742, 0.38048399, 0.35242603, 0.34901173, 0.34376067,\n",
       "       0.39444765, 0.39409353, 0.20741223, 0.37693807, 0.18491124,\n",
       "       0.39894098, 0.22942556, 0.06558923, 0.39776803, 0.38809568,\n",
       "       0.14559837, 0.39771394, 0.30584064, 0.21639764, 0.16050608,\n",
       "       0.22042067, 0.02946836, 0.39136059, 0.29978584, 0.35363817,\n",
       "       0.29547736, 0.35091895, 0.20189126, 0.28158333, 0.1494707 ,\n",
       "       0.33653684, 0.26331452, 0.15840648, 0.36311105, 0.27066571,\n",
       "       0.38948303, 0.15702512, 0.39886995, 0.37563041, 0.39885556,\n",
       "       0.11964378, 0.02085653, 0.08707151, 0.1390298 , 0.2846094 ,\n",
       "       0.29633754, 0.27842627, 0.31242226, 0.30088893, 0.30233174,\n",
       "       0.25676866, 0.3803338 , 0.36459784, 0.39130803, 0.32136148,\n",
       "       0.07748408, 0.22036079, 0.26257813, 0.37522893, 0.32690667,\n",
       "       0.23954711, 0.38407386, 0.38634317, 0.24965103, 0.27137554,\n",
       "       0.04416915, 0.17231652, 0.22032661, 0.27686495, 0.29381762,\n",
       "       0.37989309, 0.20742378, 0.38196964, 0.19705531, 0.33642475,\n",
       "       0.39274363, 0.38289826, 0.39515013, 0.0237332 , 0.11478157,\n",
       "       0.19609292, 0.38728791, 0.3947667 , 0.18353042, 0.24753816,\n",
       "       0.39840673, 0.38774504, 0.37608347, 0.39569652, 0.35897684,\n",
       "       0.18487367, 0.27726343, 0.2829525 , 0.36295053, 0.22898485,\n",
       "       0.106506  , 0.38698111, 0.11239142, 0.39688829, 0.35113664,\n",
       "       0.28150993, 0.26183432, 0.39191989, 0.18232322, 0.31398214,\n",
       "       0.36777436, 0.18284774, 0.36777397, 0.32459189, 0.26666065,\n",
       "       0.31235415, 0.25527284, 0.1872742 , 0.22447303, 0.29588957,\n",
       "       0.35412818, 0.39881742, 0.35605433, 0.33202802, 0.0234018 ,\n",
       "       0.27563333, 0.3347327 , 0.36713361, 0.36844859, 0.39770813,\n",
       "       0.11106165, 0.34701673, 0.13499016, 0.37482831, 0.37932944,\n",
       "       0.29448857, 0.26328367, 0.0820329 , 0.19555707, 0.37371453,\n",
       "       0.20639887, 0.2781142 , 0.36763872, 0.20890127, 0.39176754,\n",
       "       0.15262726, 0.30127748, 0.39883131, 0.38863498, 0.07763309,\n",
       "       0.19038327, 0.37256855, 0.38526977, 0.20868857, 0.14954214,\n",
       "       0.05169844, 0.36866059, 0.20788689, 0.33373132, 0.39448857,\n",
       "       0.24454109, 0.39435679, 0.23783001, 0.22071246, 0.11335176,\n",
       "       0.22403069, 0.16591352, 0.18215433, 0.22136979, 0.39264472,\n",
       "       0.33824429, 0.27825834, 0.05395163, 0.39350963, 0.1767256 ,\n",
       "       0.01007349, 0.14098362, 0.35119208, 0.39877154, 0.37561395,\n",
       "       0.39461809, 0.37516198, 0.30076733, 0.38724795, 0.36104159,\n",
       "       0.36166147, 0.39888697, 0.23017189, 0.38799633, 0.38239084,\n",
       "       0.34694581, 0.38757929, 0.16823999, 0.31048117, 0.28527588,\n",
       "       0.35292588, 0.29480273, 0.05237402, 0.39527346, 0.29556126,\n",
       "       0.38797494, 0.26731826, 0.22356021, 0.09805815, 0.29867282,\n",
       "       0.13198368, 0.38839832, 0.39813186, 0.05098453, 0.38870012,\n",
       "       0.12964348, 0.29571487, 0.18882006, 0.26274549, 0.08602337,\n",
       "       0.22023778, 0.35134658, 0.1561625 , 0.25060914, 0.35240783,\n",
       "       0.15963497, 0.39630443, 0.28846906, 0.30729286, 0.37015665,\n",
       "       0.13960236, 0.32683438, 0.21200292, 0.20787575, 0.32656068,\n",
       "       0.38384499, 0.34770448, 0.08597983, 0.28991954, 0.17704239,\n",
       "       0.39604777, 0.38423963, 0.19384338, 0.39683031, 0.12582223,\n",
       "       0.36607574, 0.359893  , 0.30910821, 0.39352696, 0.33765207,\n",
       "       0.39590829, 0.38023996, 0.3761782 , 0.10659759, 0.2557206 ,\n",
       "       0.24067899, 0.19062659, 0.39882495, 0.22031864, 0.31443256,\n",
       "       0.3989388 , 0.17932619, 0.28366462, 0.38787277, 0.32095437,\n",
       "       0.11060512, 0.32524995, 0.3347147 , 0.35497491, 0.19141394,\n",
       "       0.39235677, 0.39785165, 0.18055167, 0.27180633, 0.30135697,\n",
       "       0.36695814, 0.25631102, 0.37521601, 0.39077746, 0.15982281,\n",
       "       0.21599182, 0.3843628 , 0.34289503, 0.01809486, 0.39610012,\n",
       "       0.35500363, 0.17218303, 0.2326792 , 0.38586565, 0.3410013 ,\n",
       "       0.37884462, 0.39678503, 0.09766923, 0.24630882, 0.29172977,\n",
       "       0.32352114, 0.39671202, 0.04785112, 0.18237662, 0.38842218,\n",
       "       0.397224  , 0.03595798, 0.29343308, 0.04992534, 0.15310816,\n",
       "       0.39862006, 0.39303557, 0.28943212, 0.19834651, 0.1845596 ,\n",
       "       0.3405035 , 0.03638759, 0.26366959, 0.39232025, 0.22119443,\n",
       "       0.30668592, 0.05086443, 0.36626054, 0.3467807 , 0.31818647,\n",
       "       0.12741952, 0.24413869, 0.16466415, 0.3935958 , 0.09736708,\n",
       "       0.20731426, 0.13987621, 0.12682132, 0.38562358, 0.39865157,\n",
       "       0.36975224, 0.39676642, 0.05443981, 0.35698719, 0.39862075,\n",
       "       0.13440104, 0.39325122, 0.39532741, 0.29081138, 0.22593887,\n",
       "       0.24495707, 0.38189021, 0.19666723, 0.27795799, 0.3419885 ,\n",
       "       0.28020244, 0.39490886, 0.38364611, 0.35568928, 0.22081198,\n",
       "       0.31712035, 0.3713498 , 0.31533313, 0.38937401, 0.18847288,\n",
       "       0.38121848, 0.34742183, 0.32015382, 0.16680369, 0.28565087,\n",
       "       0.32333044, 0.14362216, 0.33289718, 0.30453614, 0.04116554,\n",
       "       0.39893182, 0.28652197, 0.32081266, 0.23051882, 0.38878229,\n",
       "       0.12247885, 0.24591677, 0.17541624, 0.37127914, 0.13278424,\n",
       "       0.03670098, 0.28532709, 0.37805021, 0.34039254, 0.04548643,\n",
       "       0.35603976, 0.3812227 , 0.39876909, 0.36342743, 0.32333384,\n",
       "       0.12490264, 0.38753041, 0.32226403, 0.33241715, 0.39019187,\n",
       "       0.31751294, 0.35152851, 0.28676064, 0.08877983, 0.3920243 ,\n",
       "       0.2929492 , 0.26287856, 0.29060874, 0.36551718, 0.27169466,\n",
       "       0.39581434, 0.3986023 , 0.16911327, 0.31877704, 0.30865649,\n",
       "       0.11849062, 0.3971244 , 0.28605264, 0.17642062, 0.36070616,\n",
       "       0.36561157, 0.2574122 , 0.39725884, 0.2009018 , 0.25354859,\n",
       "       0.22619279, 0.34104359, 0.15450773, 0.30377925, 0.39826064,\n",
       "       0.07870857, 0.34330874, 0.28903685, 0.08346465, 0.00731922,\n",
       "       0.39277739, 0.37562749, 0.13217671, 0.2956269 , 0.39835155,\n",
       "       0.30325835, 0.2585859 , 0.22884604, 0.39812268, 0.04078149,\n",
       "       0.36050476, 0.39754786, 0.32931389, 0.26783744, 0.38067013,\n",
       "       0.22835877, 0.02749863, 0.38407315, 0.29586401, 0.040955  ,\n",
       "       0.22160822, 0.13765829, 0.11400324, 0.20890251, 0.09307916,\n",
       "       0.36084364, 0.38344757, 0.12460851, 0.25745784, 0.17642058,\n",
       "       0.25013121, 0.19742504, 0.38014599, 0.38543711, 0.39695556,\n",
       "       0.39620695, 0.3442923 , 0.37919124, 0.30246726, 0.39657974,\n",
       "       0.39303295, 0.34026629, 0.08765181, 0.31796485, 0.08095157,\n",
       "       0.3300286 , 0.39629435, 0.37153744, 0.39224726, 0.35183179,\n",
       "       0.0932244 , 0.3652343 , 0.29263435, 0.39652075, 0.24575459,\n",
       "       0.39200245, 0.25552058, 0.02345705, 0.36148632, 0.39119889,\n",
       "       0.23941109, 0.3700682 , 0.06477322, 0.25327852, 0.15476977,\n",
       "       0.17942029, 0.34413416, 0.23411983, 0.37588295, 0.39118998,\n",
       "       0.35532392, 0.15693927, 0.33870714, 0.10694944, 0.38426392,\n",
       "       0.00806223, 0.1716247 , 0.19543335, 0.28909356, 0.21595608,\n",
       "       0.39890947, 0.37040321, 0.069125  , 0.33351458, 0.37993659,\n",
       "       0.35924679, 0.31730003, 0.33372905, 0.11981991, 0.15661919,\n",
       "       0.018024  , 0.39345114, 0.39869673, 0.39753738, 0.19934977,\n",
       "       0.09119727, 0.16866612, 0.15487328, 0.3830523 , 0.39681888,\n",
       "       0.32999825, 0.16739585, 0.0331245 , 0.29486299, 0.37077841,\n",
       "       0.33329607, 0.39858174, 0.38685079, 0.05290688, 0.34488907,\n",
       "       0.31749787, 0.36739508, 0.3450076 , 0.1236062 , 0.372424  ,\n",
       "       0.07985696, 0.32375479, 0.34373564, 0.38991834, 0.09639758,\n",
       "       0.39025348, 0.34470661, 0.38178347, 0.3981188 , 0.28786764,\n",
       "       0.13185788, 0.38370169, 0.28236787, 0.10464543, 0.14284612,\n",
       "       0.39679758, 0.30634692, 0.34762235, 0.15844116, 0.39718057,\n",
       "       0.0920827 , 0.09249966, 0.29317392, 0.39010823, 0.17478589,\n",
       "       0.12758524, 0.29989394, 0.0248709 , 0.28661826, 0.30801537,\n",
       "       0.24513304, 0.35255576, 0.09409585, 0.39786553, 0.33278983,\n",
       "       0.17966385, 0.32191802, 0.320772  , 0.27764226, 0.0025414 ,\n",
       "       0.22028567, 0.35188025, 0.3988516 , 0.34142273, 0.14120866,\n",
       "       0.37728901, 0.36036992, 0.07487675, 0.34737067, 0.3030476 ,\n",
       "       0.29307254, 0.38087276, 0.35829097, 0.31374725, 0.07995403,\n",
       "       0.3982114 , 0.34798197, 0.19774127, 0.22084051, 0.32655167,\n",
       "       0.14398705, 0.3142819 , 0.39893983, 0.19010537, 0.15539845,\n",
       "       0.33418446, 0.13529228, 0.17659351, 0.30854671, 0.18650972,\n",
       "       0.36133464, 0.30682617, 0.32734802, 0.39375069, 0.36474497,\n",
       "       0.12737303, 0.39741665, 0.39824761, 0.30552192, 0.34418194,\n",
       "       0.35582067, 0.11373453, 0.15198619, 0.15393678, 0.36699302,\n",
       "       0.38835088, 0.36556748, 0.38535456, 0.09387211, 0.39418459,\n",
       "       0.31167544, 0.37892408, 0.29770392, 0.39592115, 0.23337628,\n",
       "       0.19345632, 0.11493902, 0.12799118, 0.2821482 , 0.27907197,\n",
       "       0.12538632, 0.24127123, 0.3704421 , 0.17491443, 0.2513556 ])"
      ]
     },
     "execution_count": 141,
     "metadata": {},
     "output_type": "execute_result"
    }
   ],
   "source": [
    "pdf = norm.pdf(dat)\n",
    "pdf"
   ]
  },
  {
   "cell_type": "code",
   "execution_count": 142,
   "metadata": {},
   "outputs": [],
   "source": [
    "import seaborn as sns"
   ]
  },
  {
   "cell_type": "code",
   "execution_count": 147,
   "metadata": {},
   "outputs": [
    {
     "data": {
      "text/plain": [
       "<Axes: >"
      ]
     },
     "execution_count": 147,
     "metadata": {},
     "output_type": "execute_result"
    },
    {
     "data": {
      "image/png": "[encoded data removed]",
      "text/plain": [
       "<Figure size 640x480 with 1 Axes>"
      ]
     },
     "metadata": {},
     "output_type": "display_data"
    }
   ],
   "source": [
    "sns.boxplot(x=dat)"
   ]
  },
  {
   "cell_type": "code",
   "execution_count": 148,
   "metadata": {},
   "outputs": [
    {
     "data": {
      "text/plain": [
       "(-0.016545319884837588, 1.0027551209433716)"
      ]
     },
     "execution_count": 148,
     "metadata": {},
     "output_type": "execute_result"
    }
   ],
   "source": [
    "norm.fit(dat,method='mle')"
   ]
  },
  {
   "cell_type": "code",
   "execution_count": null,
   "metadata": {},
   "outputs": [],
   "source": []
  }
 ],
 "metadata": {
  "kernelspec": {
   "display_name": "Python 3",
   "language": "python",
   "name": "python3"
  },
  "language_info": {
   "codemirror_mode": {
    "name": "ipython",
    "version": 3
   },
   "file_extension": ".py",
   "mimetype": "text/x-python",
   "name": "python",
   "nbconvert_exporter": "python",
   "pygments_lexer": "ipython3",
   "version": "3.12.3"
  }
 },
 "nbformat": 4,
 "nbformat_minor": 2
}
