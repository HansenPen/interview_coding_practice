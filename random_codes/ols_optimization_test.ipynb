{
 "cells": [
  {
   "cell_type": "code",
   "execution_count": 208,
   "metadata": {},
   "outputs": [],
   "source": [
    "import pandas as pd \n",
    "import numpy as np"
   ]
  },
  {
   "cell_type": "code",
   "execution_count": 209,
   "metadata": {},
   "outputs": [],
   "source": [
    "df = pd.DataFrame({\"A\": [10,20,30,40,50], \n",
    "                   \"B\": [20, 30, 10, 40, 50], \n",
    "                   \"C\": [32, 234, 23, 23, 42523]})"
   ]
  },
  {
   "cell_type": "code",
   "execution_count": 210,
   "metadata": {},
   "outputs": [
    {
     "data": {
      "text/html": [
       "<div>\n",
       "<style scoped>\n",
       "    .dataframe tbody tr th:only-of-type {\n",
       "        vertical-align: middle;\n",
       "    }\n",
       "\n",
       "    .dataframe tbody tr th {\n",
       "        vertical-align: top;\n",
       "    }\n",
       "\n",
       "    .dataframe thead th {\n",
       "        text-align: right;\n",
       "    }\n",
       "</style>\n",
       "<table border=\"1\" class=\"dataframe\">\n",
       "  <thead>\n",
       "    <tr style=\"text-align: right;\">\n",
       "      <th></th>\n",
       "      <th>A</th>\n",
       "      <th>B</th>\n",
       "      <th>C</th>\n",
       "    </tr>\n",
       "  </thead>\n",
       "  <tbody>\n",
       "    <tr>\n",
       "      <th>0</th>\n",
       "      <td>10</td>\n",
       "      <td>20</td>\n",
       "      <td>32</td>\n",
       "    </tr>\n",
       "    <tr>\n",
       "      <th>1</th>\n",
       "      <td>20</td>\n",
       "      <td>30</td>\n",
       "      <td>234</td>\n",
       "    </tr>\n",
       "    <tr>\n",
       "      <th>2</th>\n",
       "      <td>30</td>\n",
       "      <td>10</td>\n",
       "      <td>23</td>\n",
       "    </tr>\n",
       "    <tr>\n",
       "      <th>3</th>\n",
       "      <td>40</td>\n",
       "      <td>40</td>\n",
       "      <td>23</td>\n",
       "    </tr>\n",
       "    <tr>\n",
       "      <th>4</th>\n",
       "      <td>50</td>\n",
       "      <td>50</td>\n",
       "      <td>42523</td>\n",
       "    </tr>\n",
       "  </tbody>\n",
       "</table>\n",
       "</div>"
      ],
      "text/plain": [
       "    A   B      C\n",
       "0  10  20     32\n",
       "1  20  30    234\n",
       "2  30  10     23\n",
       "3  40  40     23\n",
       "4  50  50  42523"
      ]
     },
     "execution_count": 210,
     "metadata": {},
     "output_type": "execute_result"
    }
   ],
   "source": [
    "df"
   ]
  },
  {
   "cell_type": "code",
   "execution_count": 211,
   "metadata": {},
   "outputs": [
    {
     "data": {
      "text/plain": [
       "array([[ 1., 10., 20.],\n",
       "       [ 1., 20., 30.],\n",
       "       [ 1., 30., 10.],\n",
       "       [ 1., 40., 40.],\n",
       "       [ 1., 50., 50.]])"
      ]
     },
     "execution_count": 211,
     "metadata": {},
     "output_type": "execute_result"
    }
   ],
   "source": [
    "X = df.iloc[:,0:2].values\n",
    "ones = np.ones([X.shape[0],1]) # constant\n",
    "X = np.concatenate((ones,X),axis=1)\n",
    "X"
   ]
  },
  {
   "cell_type": "code",
   "execution_count": 212,
   "metadata": {},
   "outputs": [
    {
     "data": {
      "text/plain": [
       "5"
      ]
     },
     "execution_count": 212,
     "metadata": {},
     "output_type": "execute_result"
    }
   ],
   "source": [
    "X.shape[0]"
   ]
  },
  {
   "cell_type": "code",
   "execution_count": 213,
   "metadata": {},
   "outputs": [
    {
     "data": {
      "text/plain": [
       "array([[   32],\n",
       "       [  234],\n",
       "       [   23],\n",
       "       [   23],\n",
       "       [42523]], dtype=int64)"
      ]
     },
     "execution_count": 213,
     "metadata": {},
     "output_type": "execute_result"
    }
   ],
   "source": [
    "y = df.iloc[:,2:3].values\n",
    "y"
   ]
  },
  {
   "cell_type": "code",
   "execution_count": 214,
   "metadata": {},
   "outputs": [
    {
     "data": {
      "text/plain": [
       "array([[0., 0., 0.]])"
      ]
     },
     "execution_count": 214,
     "metadata": {},
     "output_type": "execute_result"
    }
   ],
   "source": [
    "beta = np.zeros([1,3])\n",
    "beta"
   ]
  },
  {
   "cell_type": "code",
   "execution_count": 215,
   "metadata": {},
   "outputs": [],
   "source": [
    "def cost_function(X,y,beta):\n",
    "    n = X.shape[0]\n",
    "    sum_squared = np.sum(np.power((X@beta.T - y),2))\n",
    "    return sum_squared"
   ]
  },
  {
   "cell_type": "code",
   "execution_count": 216,
   "metadata": {},
   "outputs": [
    {
     "data": {
      "text/plain": [
       "1808262367.0"
      ]
     },
     "execution_count": 216,
     "metadata": {},
     "output_type": "execute_result"
    }
   ],
   "source": [
    "cost_function(X,y,beta)"
   ]
  },
  {
   "cell_type": "code",
   "execution_count": 217,
   "metadata": {},
   "outputs": [],
   "source": [
    "def gradientDescent(X, y, beta, n, alpha):\n",
    "    \"\"\"\n",
    "    using gradient descent to minimize cost function.\n",
    "    \n",
    "    Parameters\n",
    "    ----------\n",
    "    X : array_like\n",
    "        explanatory variables\n",
    "    y: array_like\n",
    "        response variable\n",
    "    beta: array_like\n",
    "        a list of coefficient\n",
    "    n: int\n",
    "        number of iterations\n",
    "    alpha: float\n",
    "        learning rate\n",
    "    \n",
    "    Return\n",
    "    ------\n",
    "    beta: array_like\n",
    "        updated coefficient\n",
    "    cost: array_like\n",
    "        cost history\n",
    "    \"\"\"\n",
    "    cost = np.zeros(n) # initial costs are 0\n",
    "    for i in range(n):\n",
    "        beta = beta - (alpha/len(X)) * np.sum(X * (X @ beta.T - y), axis = 0) # iteratively update beta\n",
    "        cost[i] = cost_function(X, y, beta) # update cost \n",
    "    return beta, cost"
   ]
  },
  {
   "cell_type": "code",
   "execution_count": 220,
   "metadata": {},
   "outputs": [
    {
     "data": {
      "text/plain": [
       "(array([[-21383.38692163,    495.52660001,    502.85993335]]),\n",
       " array([9.61518757e+08, 9.57261798e+08, 9.57182815e+08, ...,\n",
       "        5.93665235e+08, 5.93665235e+08, 5.93665235e+08]))"
      ]
     },
     "execution_count": 220,
     "metadata": {},
     "output_type": "execute_result"
    }
   ],
   "source": [
    "gradientDescent(X,y,beta,100000,0.0005)"
   ]
  },
  {
   "cell_type": "code",
   "execution_count": null,
   "metadata": {},
   "outputs": [],
   "source": [
    "def optim_iterative(X,y,beta,alpha,iter):\n",
    "    n = X.shape[0]\n",
    "    iter_cost = np.zeros(iter)\n",
    "    \n",
    "    for i in range(iter):\n",
    "        iter_cost[i] = cost_function(X,y,beta)\n",
    "        beta = (beta -  (alpha/iter)*(np.sum(X * ((X@beta.T - y)).reshape(5),axis=1)))\n",
    "    return iter_cost,beta\n",
    "        "
   ]
  },
  {
   "cell_type": "code",
   "execution_count": 158,
   "metadata": {},
   "outputs": [
    {
     "data": {
      "text/plain": [
       "(array([1.80826237e+09, 1.79014276e+09, 1.77240897e+09, ...,\n",
       "        9.51620694e+08, 9.51620125e+08, 9.51619557e+08]),\n",
       " array([[-163.64438866],\n",
       "        [ 198.21396625],\n",
       "        [ 205.18235871]]))"
      ]
     },
     "execution_count": 158,
     "metadata": {},
     "output_type": "execute_result"
    }
   ],
   "source": [
    "optim_iterative(X,y,beta,0.01,10000)"
   ]
  },
  {
   "cell_type": "code",
   "execution_count": 90,
   "metadata": {},
   "outputs": [
    {
     "data": {
      "text/plain": [
       "array([[2130781.09619519, 2133084.93041324]])"
      ]
     },
     "execution_count": 90,
     "metadata": {},
     "output_type": "execute_result"
    }
   ],
   "source": [
    "beta.T -  np.sum(X.T * ((X@beta - y.reshape(len(y),1))).reshape(5),axis=1)"
   ]
  },
  {
   "cell_type": "code",
   "execution_count": 157,
   "metadata": {},
   "outputs": [
    {
     "name": "stdout",
     "output_type": "stream",
     "text": [
      "Intercept    14.952480\n",
      "B             0.401182\n",
      "C             0.000352\n",
      "dtype: float64\n"
     ]
    }
   ],
   "source": [
    "import statsmodels.formula.api as sm\n",
    "result = sm.ols(formula=\"A ~ B + C\", data=df).fit()\n",
    "print(result.params)"
   ]
  },
  {
   "cell_type": "code",
   "execution_count": null,
   "metadata": {},
   "outputs": [],
   "source": []
  }
 ],
 "metadata": {
  "kernelspec": {
   "display_name": "Python 3",
   "language": "python",
   "name": "python3"
  },
  "language_info": {
   "codemirror_mode": {
    "name": "ipython",
    "version": 3
   },
   "file_extension": ".py",
   "mimetype": "text/x-python",
   "name": "python",
   "nbconvert_exporter": "python",
   "pygments_lexer": "ipython3",
   "version": "3.12.3"
  }
 },
 "nbformat": 4,
 "nbformat_minor": 2
}
